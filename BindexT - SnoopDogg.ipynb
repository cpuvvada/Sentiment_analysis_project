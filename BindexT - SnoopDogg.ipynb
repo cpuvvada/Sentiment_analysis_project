{
 "cells": [
  {
   "cell_type": "markdown",
   "metadata": {},
   "source": [
    "# Sentiment Analysis for BindexT"
   ]
  },
  {
   "cell_type": "markdown",
   "metadata": {},
   "source": [
    "<img src = 'snoopdogg.png', width = 300 X 100>"
   ]
  },
  {
   "cell_type": "markdown",
   "metadata": {},
   "source": [
    "What people talk and how people talk in social media within subcultures have a certain influence on their followers. The use of subculture language also quite different. \n",
    "\n",
    "This module is to use machine learning to learn the language pattern of  four twitter domains for domain predictions. \n",
    "\n",
    "Below is the workflow of the machine training module. \n",
    "\n",
    "~ 12400 tweets were scrapped from four users. 90% of the tweets use for training and 10% for prediction.\n",
    "\n",
    "\n",
    "<img src = 'BindexT Sentiment Analysis Workflow.png', alt=\"Drawing\" style=\"width: 700px;\"/>\n"
   ]
  },
  {
   "cell_type": "markdown",
   "metadata": {},
   "source": [
    "## 1) Data Collection - twitter mining"
   ]
  },
  {
   "cell_type": "code",
   "execution_count": 1,
   "metadata": {
    "collapsed": true
   },
   "outputs": [],
   "source": [
    "import os\n",
    "import pandas as pd\n",
    "import numpy as np"
   ]
  },
  {
   "cell_type": "code",
   "execution_count": 2,
   "metadata": {
    "collapsed": true
   },
   "outputs": [],
   "source": [
    "import twitter, re, datetime, pandas as pd\n",
    "import string\n",
    "from collections import defaultdict\n",
    "\n",
    "# Your twitter account keys go here:\n",
    "twitter_keys = {\n",
    "    'consumer_key':        'your consumer key here',\n",
    "    'consumer_secret':     'your consumer secret key here',\n",
    "    'access_token_key':    'your access token here',\n",
    "    'access_token_secret': 'your access token secret code here'\n",
    "}\n",
    "\n",
    "api = twitter.Api(\n",
    "    consumer_key         =   twitter_keys['consumer_key'],\n",
    "    consumer_secret      =   twitter_keys['consumer_secret'],\n",
    "    access_token_key     =   twitter_keys['access_token_key'],\n",
    "    access_token_secret  =   twitter_keys['access_token_secret']\n",
    ")\n"
   ]
  },
  {
   "cell_type": "code",
   "execution_count": 3,
   "metadata": {
    "collapsed": true
   },
   "outputs": [],
   "source": [
    "# set up a twitter mining object\n",
    "\n",
    "class TweetMiner(object):\n",
    "\n",
    "    result_limit    =   1000  \n",
    "    api             =   False\n",
    "    data            =   []\n",
    "    \n",
    "    def __init__(self, keys_dict, api, result_limit = 5000):\n",
    "        \n",
    "        self.api = api\n",
    "        self.twitter_keys = keys_dict\n",
    "        \n",
    "        self.result_limit = result_limit\n",
    "        \n",
    "\n",
    "    def mine_user_tweets(self, user=\"SnoopDogg\", mine_rewteets=False, max_pages=30):\n",
    "\n",
    "        data           =  []\n",
    "        last_tweet_id  =  False\n",
    "        page           =  1\n",
    "        \n",
    "        while page <= max_pages:\n",
    "            \n",
    "            if last_tweet_id:\n",
    "                statuses   =   self.api.GetUserTimeline(screen_name=user, count=self.result_limit, max_id=last_tweet_id - 1)        \n",
    "            else:\n",
    "                statuses   =   self.api.GetUserTimeline(screen_name=user, count=self.result_limit)\n",
    "                \n",
    "            for item in statuses:\n",
    "\n",
    "                mined = {\n",
    "                    'tweet_id':        item.id,\n",
    "                    'handle':          item.user.name,\n",
    "                    'retweet_count':   item.retweet_count,\n",
    "                    'text':            item.text,\n",
    "                    'mined_at':        datetime.datetime.now(),\n",
    "                    'created_at':      item.created_at,\n",
    "                }\n",
    "                \n",
    "                last_tweet_id = item.id\n",
    "                data.append(mined)\n",
    "                \n",
    "            page += 1\n",
    "            \n",
    "        return data"
   ]
  },
  {
   "cell_type": "code",
   "execution_count": 4,
   "metadata": {
    "collapsed": true
   },
   "outputs": [],
   "source": [
    "# Set twitter result limit\n",
    "\n",
    "miner = TweetMiner(keys_dict = twitter_keys, api = api, result_limit=6000)"
   ]
  },
  {
   "cell_type": "code",
   "execution_count": 5,
   "metadata": {
    "collapsed": true
   },
   "outputs": [],
   "source": [
    "# Set user domain. To test the sentiment analysis prediction, four domains were use for training\n",
    "# The user is the verified twitter handles\n",
    "\n",
    "snoopdogg = miner.mine_user_tweets(user = 'SnoopDogg')\n",
    "aerosmith = miner.mine_user_tweets(user = 'aerosmith')\n",
    "flagaline = miner.mine_user_tweets(user = 'FLAGALine')\n",
    "lovato = miner.mine_user_tweets(user = 'ddlovato')"
   ]
  },
  {
   "cell_type": "code",
   "execution_count": 6,
   "metadata": {
    "scrolled": true
   },
   "outputs": [
    {
     "data": {
      "text/plain": [
       "[{'created_at': u'Tue Oct 17 20:39:48 +0000 2017',\n",
       "  'handle': u'Snoop Dogg',\n",
       "  'mined_at': datetime.datetime(2017, 10, 17, 17, 51, 45, 8199),\n",
       "  'retweet_count': 9,\n",
       "  'text': u'\\U0001f937\\U0001f3fe\\u200d\\u2642\\ufe0f\\U0001f923\\U0001f3c8\\U0001f3c8 https://t.co/SgXPr18D8T https://t.co/5NLo5DiC3b',\n",
       "  'tweet_id': 920388898643218440},\n",
       " {'created_at': u'Tue Oct 17 20:28:07 +0000 2017',\n",
       "  'handle': u'Snoop Dogg',\n",
       "  'mined_at': datetime.datetime(2017, 10, 17, 17, 51, 45, 8209),\n",
       "  'retweet_count': 59,\n",
       "  'text': u'take flight \\U0001f343\\u2708\\ufe0f https://t.co/LF9VGMdJrK',\n",
       "  'tweet_id': 920385960247881728},\n",
       " {'created_at': u'Tue Oct 17 19:08:35 +0000 2017',\n",
       "  'handle': u'Snoop Dogg',\n",
       "  'mined_at': datetime.datetime(2017, 10, 17, 17, 51, 45, 8212),\n",
       "  'retweet_count': 555,\n",
       "  'text': u'https://t.co/WLgP9JMFd6 https://t.co/m3074Rn4Bw',\n",
       "  'tweet_id': 920365945561993222},\n",
       " {'created_at': u'Tue Oct 17 18:41:20 +0000 2017',\n",
       "  'handle': u'Snoop Dogg',\n",
       "  'mined_at': datetime.datetime(2017, 10, 17, 17, 51, 45, 8214),\n",
       "  'retweet_count': 296,\n",
       "  'text': u'\\U0001f923\\U0001f923 https://t.co/LH9lM0R9zU https://t.co/DVze1szzXJ',\n",
       "  'tweet_id': 920359088239804416},\n",
       " {'created_at': u'Tue Oct 17 18:40:08 +0000 2017',\n",
       "  'handle': u'Snoop Dogg',\n",
       "  'mined_at': datetime.datetime(2017, 10, 17, 17, 51, 45, 8216),\n",
       "  'retweet_count': 82,\n",
       "  'text': u'\\U0001f525\\U0001f525\\U0001f50c\\U0001f50c #flochella by @DesignerFlowHSR out now .  stay tuned for that #sportscenter \\U0001f3b6 https://t.co/aI9NCsT3oR https://t.co/QumHwdxA3G',\n",
       "  'tweet_id': 920358787277393920}]"
      ]
     },
     "execution_count": 6,
     "metadata": {},
     "output_type": "execute_result"
    }
   ],
   "source": [
    "# take a peek at the first 10 tweets in raw format\n",
    "snoopdogg[:5]"
   ]
  },
  {
   "cell_type": "code",
   "execution_count": 7,
   "metadata": {
    "scrolled": true
   },
   "outputs": [
    {
     "data": {
      "text/html": [
       "<div>\n",
       "<style>\n",
       "    .dataframe thead tr:only-child th {\n",
       "        text-align: right;\n",
       "    }\n",
       "\n",
       "    .dataframe thead th {\n",
       "        text-align: left;\n",
       "    }\n",
       "\n",
       "    .dataframe tbody tr th {\n",
       "        vertical-align: top;\n",
       "    }\n",
       "</style>\n",
       "<table border=\"1\" class=\"dataframe\">\n",
       "  <thead>\n",
       "    <tr style=\"text-align: right;\">\n",
       "      <th></th>\n",
       "      <th>created_at</th>\n",
       "      <th>handle</th>\n",
       "      <th>mined_at</th>\n",
       "      <th>retweet_count</th>\n",
       "      <th>text</th>\n",
       "      <th>tweet_id</th>\n",
       "    </tr>\n",
       "  </thead>\n",
       "  <tbody>\n",
       "    <tr>\n",
       "      <th>0</th>\n",
       "      <td>Tue Oct 17 20:39:48 +0000 2017</td>\n",
       "      <td>Snoop Dogg</td>\n",
       "      <td>2017-10-17 17:51:45.008199</td>\n",
       "      <td>9</td>\n",
       "      <td>🤷🏾‍♂️🤣🏈🏈 https://t.co/SgXPr18D8T https://...</td>\n",
       "      <td>920388898643218440</td>\n",
       "    </tr>\n",
       "    <tr>\n",
       "      <th>1</th>\n",
       "      <td>Tue Oct 17 20:28:07 +0000 2017</td>\n",
       "      <td>Snoop Dogg</td>\n",
       "      <td>2017-10-17 17:51:45.008209</td>\n",
       "      <td>59</td>\n",
       "      <td>take flight 🍃✈️ https://t.co/LF9VGMdJrK</td>\n",
       "      <td>920385960247881728</td>\n",
       "    </tr>\n",
       "    <tr>\n",
       "      <th>2</th>\n",
       "      <td>Tue Oct 17 19:08:35 +0000 2017</td>\n",
       "      <td>Snoop Dogg</td>\n",
       "      <td>2017-10-17 17:51:45.008212</td>\n",
       "      <td>555</td>\n",
       "      <td>https://t.co/WLgP9JMFd6 https://t.co/m3074Rn4Bw</td>\n",
       "      <td>920365945561993222</td>\n",
       "    </tr>\n",
       "    <tr>\n",
       "      <th>3</th>\n",
       "      <td>Tue Oct 17 18:41:20 +0000 2017</td>\n",
       "      <td>Snoop Dogg</td>\n",
       "      <td>2017-10-17 17:51:45.008214</td>\n",
       "      <td>296</td>\n",
       "      <td>🤣🤣 https://t.co/LH9lM0R9zU https://t.co/DVze...</td>\n",
       "      <td>920359088239804416</td>\n",
       "    </tr>\n",
       "    <tr>\n",
       "      <th>4</th>\n",
       "      <td>Tue Oct 17 18:40:08 +0000 2017</td>\n",
       "      <td>Snoop Dogg</td>\n",
       "      <td>2017-10-17 17:51:45.008216</td>\n",
       "      <td>82</td>\n",
       "      <td>🔥🔥🔌🔌 #flochella by @DesignerFlowHSR out no...</td>\n",
       "      <td>920358787277393920</td>\n",
       "    </tr>\n",
       "    <tr>\n",
       "      <th>5</th>\n",
       "      <td>Tue Oct 17 17:19:22 +0000 2017</td>\n",
       "      <td>Snoop Dogg</td>\n",
       "      <td>2017-10-17 17:51:45.008219</td>\n",
       "      <td>197</td>\n",
       "      <td>🙌🏿 https://t.co/lceMnA3uPk</td>\n",
       "      <td>920338458949820418</td>\n",
       "    </tr>\n",
       "    <tr>\n",
       "      <th>6</th>\n",
       "      <td>Tue Oct 17 17:14:09 +0000 2017</td>\n",
       "      <td>Snoop Dogg</td>\n",
       "      <td>2017-10-17 17:51:45.008221</td>\n",
       "      <td>19</td>\n",
       "      <td>Breakfast in bed 😤😤. @snoopspremium  @ogloui...</td>\n",
       "      <td>920337148422782977</td>\n",
       "    </tr>\n",
       "    <tr>\n",
       "      <th>7</th>\n",
       "      <td>Tue Oct 17 17:04:56 +0000 2017</td>\n",
       "      <td>Snoop Dogg</td>\n",
       "      <td>2017-10-17 17:51:45.008224</td>\n",
       "      <td>34</td>\n",
       "      <td>https://t.co/p9kCbBVAiS https://t.co/nWGp2tk2iz</td>\n",
       "      <td>920334826955210752</td>\n",
       "    </tr>\n",
       "    <tr>\n",
       "      <th>8</th>\n",
       "      <td>Tue Oct 17 16:53:19 +0000 2017</td>\n",
       "      <td>Snoop Dogg</td>\n",
       "      <td>2017-10-17 17:51:45.008226</td>\n",
       "      <td>3</td>\n",
       "      <td>@bosslady_ent 💖💖👊🏾✌🏽🥂 https://t.co/Ics5Q...</td>\n",
       "      <td>920331905928744961</td>\n",
       "    </tr>\n",
       "    <tr>\n",
       "      <th>9</th>\n",
       "      <td>Tue Oct 17 16:50:30 +0000 2017</td>\n",
       "      <td>Snoop Dogg</td>\n",
       "      <td>2017-10-17 17:51:45.008228</td>\n",
       "      <td>62</td>\n",
       "      <td>🔌🔥🔥 https://t.co/1jFOCDO5uW https://t.co/4p...</td>\n",
       "      <td>920331196512514048</td>\n",
       "    </tr>\n",
       "  </tbody>\n",
       "</table>\n",
       "</div>"
      ],
      "text/plain": [
       "                       created_at      handle                   mined_at  \\\n",
       "0  Tue Oct 17 20:39:48 +0000 2017  Snoop Dogg 2017-10-17 17:51:45.008199   \n",
       "1  Tue Oct 17 20:28:07 +0000 2017  Snoop Dogg 2017-10-17 17:51:45.008209   \n",
       "2  Tue Oct 17 19:08:35 +0000 2017  Snoop Dogg 2017-10-17 17:51:45.008212   \n",
       "3  Tue Oct 17 18:41:20 +0000 2017  Snoop Dogg 2017-10-17 17:51:45.008214   \n",
       "4  Tue Oct 17 18:40:08 +0000 2017  Snoop Dogg 2017-10-17 17:51:45.008216   \n",
       "5  Tue Oct 17 17:19:22 +0000 2017  Snoop Dogg 2017-10-17 17:51:45.008219   \n",
       "6  Tue Oct 17 17:14:09 +0000 2017  Snoop Dogg 2017-10-17 17:51:45.008221   \n",
       "7  Tue Oct 17 17:04:56 +0000 2017  Snoop Dogg 2017-10-17 17:51:45.008224   \n",
       "8  Tue Oct 17 16:53:19 +0000 2017  Snoop Dogg 2017-10-17 17:51:45.008226   \n",
       "9  Tue Oct 17 16:50:30 +0000 2017  Snoop Dogg 2017-10-17 17:51:45.008228   \n",
       "\n",
       "   retweet_count                                               text  \\\n",
       "0              9  🤷🏾‍♂️🤣🏈🏈 https://t.co/SgXPr18D8T https://...   \n",
       "1             59           take flight 🍃✈️ https://t.co/LF9VGMdJrK   \n",
       "2            555    https://t.co/WLgP9JMFd6 https://t.co/m3074Rn4Bw   \n",
       "3            296  🤣🤣 https://t.co/LH9lM0R9zU https://t.co/DVze...   \n",
       "4             82  🔥🔥🔌🔌 #flochella by @DesignerFlowHSR out no...   \n",
       "5            197                       🙌🏿 https://t.co/lceMnA3uPk   \n",
       "6             19  Breakfast in bed 😤😤. @snoopspremium  @ogloui...   \n",
       "7             34    https://t.co/p9kCbBVAiS https://t.co/nWGp2tk2iz   \n",
       "8              3  @bosslady_ent 💖💖👊🏾✌🏽🥂 https://t.co/Ics5Q...   \n",
       "9             62  🔌🔥🔥 https://t.co/1jFOCDO5uW https://t.co/4p...   \n",
       "\n",
       "             tweet_id  \n",
       "0  920388898643218440  \n",
       "1  920385960247881728  \n",
       "2  920365945561993222  \n",
       "3  920359088239804416  \n",
       "4  920358787277393920  \n",
       "5  920338458949820418  \n",
       "6  920337148422782977  \n",
       "7  920334826955210752  \n",
       "8  920331905928744961  \n",
       "9  920331196512514048  "
      ]
     },
     "execution_count": 7,
     "metadata": {},
     "output_type": "execute_result"
    }
   ],
   "source": [
    "# Check out these tweets in dataframe format \n",
    "\n",
    "pd.DataFrame(snoopdogg).head(10)"
   ]
  },
  {
   "cell_type": "markdown",
   "metadata": {},
   "source": [
    "#### Very interesting. Lots of emojis being used for expression!"
   ]
  },
  {
   "cell_type": "code",
   "execution_count": 8,
   "metadata": {
    "collapsed": true
   },
   "outputs": [],
   "source": [
    "# Put all the tweets in dataframe\n",
    "\n",
    "snoopdogg_df = pd.DataFrame(snoopdogg)\n",
    "aerosmith_df = pd.DataFrame(aerosmith)\n",
    "flagaline_df = pd.DataFrame(flagaline)\n",
    "lovato_df = pd.DataFrame(lovato)"
   ]
  },
  {
   "cell_type": "code",
   "execution_count": 9,
   "metadata": {
    "collapsed": true
   },
   "outputs": [],
   "source": [
    "# combine four domains together into one big dataframe\n",
    "tweets = pd.concat([snoopdogg_df, aerosmith_df, flagaline_df, lovato_df])"
   ]
  },
  {
   "cell_type": "code",
   "execution_count": 10,
   "metadata": {},
   "outputs": [
    {
     "data": {
      "text/plain": [
       "(12865, 6)"
      ]
     },
     "execution_count": 10,
     "metadata": {},
     "output_type": "execute_result"
    }
   ],
   "source": [
    "# Check how many tweets were scraped\n",
    "tweets.shape"
   ]
  },
  {
   "cell_type": "markdown",
   "metadata": {},
   "source": [
    "#### ~12000 tweets were scrapped from the four domains."
   ]
  },
  {
   "cell_type": "code",
   "execution_count": 11,
   "metadata": {
    "collapsed": true
   },
   "outputs": [],
   "source": [
    "# Export tweets into a csv file. Since there are a lot of emojis, \n",
    "# encoding utf-16 is used to display emojis on the csv file\n",
    "\n",
    "tweets.to_csv('tweets.csv', encoding = 'utf-16')"
   ]
  },
  {
   "cell_type": "markdown",
   "metadata": {},
   "source": [
    "## 2) Corpus Preparation for machine training"
   ]
  },
  {
   "cell_type": "markdown",
   "metadata": {},
   "source": [
    "This process use Natural Language Toolkits to prepare the corpus for machine training. \n",
    "\n",
    "Since the tweets contains a lot of emoji, it is recommanded to manually clean up and exact the important words, including emoji's codings that start with UXXXXX. "
   ]
  },
  {
   "cell_type": "code",
   "execution_count": 12,
   "metadata": {},
   "outputs": [
    {
     "name": "stdout",
     "output_type": "stream",
     "text": [
      "[nltk_data] Downloading package stopwords to\n",
      "[nltk_data]     /Users/connie/nltk_data...\n",
      "[nltk_data]   Package stopwords is already up-to-date!\n"
     ]
    }
   ],
   "source": [
    "import nltk\n",
    "nltk.download('stopwords')\n",
    "from nltk.corpus import stopwords\n",
    "from nltk.stem.porter import PorterStemmer"
   ]
  },
  {
   "cell_type": "markdown",
   "metadata": {},
   "source": [
    "Since tweets have a lot of 'http' and 'https' words that have no meaning  for training purpose, these are also added to the english.txt stopword library for elimination. "
   ]
  },
  {
   "cell_type": "code",
   "execution_count": 13,
   "metadata": {
    "collapsed": true
   },
   "outputs": [],
   "source": [
    "# Assign users to dummy variable\n",
    "\n",
    "tweets['target'] = tweets.handle.map(lambda x: 1 if x == 'Snoop Dogg' \n",
    "                                     else 2 if x == 'Aerosmith'\n",
    "                                     else 3 if x == 'Florida Georgia Line'\n",
    "                                     else 4)\n",
    "                                 "
   ]
  },
  {
   "cell_type": "code",
   "execution_count": 14,
   "metadata": {
    "scrolled": true
   },
   "outputs": [
    {
     "data": {
      "text/html": [
       "<div>\n",
       "<style>\n",
       "    .dataframe thead tr:only-child th {\n",
       "        text-align: right;\n",
       "    }\n",
       "\n",
       "    .dataframe thead th {\n",
       "        text-align: left;\n",
       "    }\n",
       "\n",
       "    .dataframe tbody tr th {\n",
       "        vertical-align: top;\n",
       "    }\n",
       "</style>\n",
       "<table border=\"1\" class=\"dataframe\">\n",
       "  <thead>\n",
       "    <tr style=\"text-align: right;\">\n",
       "      <th></th>\n",
       "      <th>created_at</th>\n",
       "      <th>handle</th>\n",
       "      <th>mined_at</th>\n",
       "      <th>retweet_count</th>\n",
       "      <th>text</th>\n",
       "      <th>tweet_id</th>\n",
       "      <th>target</th>\n",
       "    </tr>\n",
       "  </thead>\n",
       "  <tbody>\n",
       "    <tr>\n",
       "      <th>581</th>\n",
       "      <td>Fri Aug 11 04:30:28 +0000 2017</td>\n",
       "      <td>Snoop Dogg</td>\n",
       "      <td>2017-10-17 17:51:46.590137</td>\n",
       "      <td>84</td>\n",
       "      <td>https://t.co/Kls9IybODB https://t.co/1ZKMSos41G</td>\n",
       "      <td>895864974148460544</td>\n",
       "      <td>1</td>\n",
       "    </tr>\n",
       "    <tr>\n",
       "      <th>410</th>\n",
       "      <td>Sun Aug 27 22:16:35 +0000 2017</td>\n",
       "      <td>Snoop Dogg</td>\n",
       "      <td>2017-10-17 17:51:46.589632</td>\n",
       "      <td>549</td>\n",
       "      <td>Ladies, y'all doin dis ? 😂 https://t.co/lZYGx...</td>\n",
       "      <td>901931475221700608</td>\n",
       "      <td>1</td>\n",
       "    </tr>\n",
       "    <tr>\n",
       "      <th>3215</th>\n",
       "      <td>Sun Jul 26 05:44:04 +0000 2015</td>\n",
       "      <td>Demi Lovato</td>\n",
       "      <td>2017-10-17 17:53:08.158155</td>\n",
       "      <td>14575</td>\n",
       "      <td>I'm SO proud of you.. Such. Strong beautiful w...</td>\n",
       "      <td>625179757999579137</td>\n",
       "      <td>4</td>\n",
       "    </tr>\n",
       "    <tr>\n",
       "      <th>1766</th>\n",
       "      <td>Tue Apr 18 20:46:46 +0000 2017</td>\n",
       "      <td>Snoop Dogg</td>\n",
       "      <td>2017-10-17 17:51:51.925079</td>\n",
       "      <td>38</td>\n",
       "      <td>https://t.co/jz0F94qkKY https://t.co/coYzmUEnFM</td>\n",
       "      <td>854436063988809728</td>\n",
       "      <td>1</td>\n",
       "    </tr>\n",
       "    <tr>\n",
       "      <th>1723</th>\n",
       "      <td>Sat Sep 05 19:00:36 +0000 2015</td>\n",
       "      <td>Florida Georgia Line</td>\n",
       "      <td>2017-10-17 17:52:36.606988</td>\n",
       "      <td>82</td>\n",
       "      <td>♫ Today: Cleveland, OH - Sep 5 at FirstEnergy ...</td>\n",
       "      <td>640238117732139008</td>\n",
       "      <td>3</td>\n",
       "    </tr>\n",
       "    <tr>\n",
       "      <th>1370</th>\n",
       "      <td>Sat Jun 25 03:05:38 +0000 2016</td>\n",
       "      <td>Demi Lovato</td>\n",
       "      <td>2017-10-17 17:52:58.127748</td>\n",
       "      <td>2241</td>\n",
       "      <td>RT @AmericanAir: @ddlovato Thanks for spending...</td>\n",
       "      <td>746539821984784384</td>\n",
       "      <td>4</td>\n",
       "    </tr>\n",
       "    <tr>\n",
       "      <th>3044</th>\n",
       "      <td>Fri Sep 04 10:56:21 +0000 2015</td>\n",
       "      <td>Demi Lovato</td>\n",
       "      <td>2017-10-17 17:53:07.022255</td>\n",
       "      <td>4055</td>\n",
       "      <td>RT @sophjauregui: @ddlovato cool for the summe...</td>\n",
       "      <td>639753863155703808</td>\n",
       "      <td>4</td>\n",
       "    </tr>\n",
       "    <tr>\n",
       "      <th>486</th>\n",
       "      <td>Mon Aug 21 07:29:24 +0000 2017</td>\n",
       "      <td>Snoop Dogg</td>\n",
       "      <td>2017-10-17 17:51:46.589854</td>\n",
       "      <td>73</td>\n",
       "      <td>https://t.co/DFcC8R7ATt https://t.co/mJZF3B7Slx</td>\n",
       "      <td>899533879287173121</td>\n",
       "      <td>1</td>\n",
       "    </tr>\n",
       "    <tr>\n",
       "      <th>426</th>\n",
       "      <td>Fri Aug 25 22:16:57 +0000 2017</td>\n",
       "      <td>Snoop Dogg</td>\n",
       "      <td>2017-10-17 17:51:46.589674</td>\n",
       "      <td>141</td>\n",
       "      <td>🌿💨✊🏿 https://t.co/dPaVvCGig5</td>\n",
       "      <td>901206792402644992</td>\n",
       "      <td>1</td>\n",
       "    </tr>\n",
       "    <tr>\n",
       "      <th>1521</th>\n",
       "      <td>Sat May 06 02:18:48 +0000 2017</td>\n",
       "      <td>Snoop Dogg</td>\n",
       "      <td>2017-10-17 17:51:51.275693</td>\n",
       "      <td>166</td>\n",
       "      <td>https://t.co/uOBUOwxLiG https://t.co/I7ltVqs88O</td>\n",
       "      <td>860680215214817280</td>\n",
       "      <td>1</td>\n",
       "    </tr>\n",
       "  </tbody>\n",
       "</table>\n",
       "</div>"
      ],
      "text/plain": [
       "                          created_at                handle  \\\n",
       "581   Fri Aug 11 04:30:28 +0000 2017            Snoop Dogg   \n",
       "410   Sun Aug 27 22:16:35 +0000 2017            Snoop Dogg   \n",
       "3215  Sun Jul 26 05:44:04 +0000 2015           Demi Lovato   \n",
       "1766  Tue Apr 18 20:46:46 +0000 2017            Snoop Dogg   \n",
       "1723  Sat Sep 05 19:00:36 +0000 2015  Florida Georgia Line   \n",
       "1370  Sat Jun 25 03:05:38 +0000 2016           Demi Lovato   \n",
       "3044  Fri Sep 04 10:56:21 +0000 2015           Demi Lovato   \n",
       "486   Mon Aug 21 07:29:24 +0000 2017            Snoop Dogg   \n",
       "426   Fri Aug 25 22:16:57 +0000 2017            Snoop Dogg   \n",
       "1521  Sat May 06 02:18:48 +0000 2017            Snoop Dogg   \n",
       "\n",
       "                       mined_at  retweet_count  \\\n",
       "581  2017-10-17 17:51:46.590137             84   \n",
       "410  2017-10-17 17:51:46.589632            549   \n",
       "3215 2017-10-17 17:53:08.158155          14575   \n",
       "1766 2017-10-17 17:51:51.925079             38   \n",
       "1723 2017-10-17 17:52:36.606988             82   \n",
       "1370 2017-10-17 17:52:58.127748           2241   \n",
       "3044 2017-10-17 17:53:07.022255           4055   \n",
       "486  2017-10-17 17:51:46.589854             73   \n",
       "426  2017-10-17 17:51:46.589674            141   \n",
       "1521 2017-10-17 17:51:51.275693            166   \n",
       "\n",
       "                                                   text            tweet_id  \\\n",
       "581     https://t.co/Kls9IybODB https://t.co/1ZKMSos41G  895864974148460544   \n",
       "410   Ladies, y'all doin dis ? 😂 https://t.co/lZYGx...  901931475221700608   \n",
       "3215  I'm SO proud of you.. Such. Strong beautiful w...  625179757999579137   \n",
       "1766    https://t.co/jz0F94qkKY https://t.co/coYzmUEnFM  854436063988809728   \n",
       "1723  ♫ Today: Cleveland, OH - Sep 5 at FirstEnergy ...  640238117732139008   \n",
       "1370  RT @AmericanAir: @ddlovato Thanks for spending...  746539821984784384   \n",
       "3044  RT @sophjauregui: @ddlovato cool for the summe...  639753863155703808   \n",
       "486     https://t.co/DFcC8R7ATt https://t.co/mJZF3B7Slx  899533879287173121   \n",
       "426                     🌿💨✊🏿 https://t.co/dPaVvCGig5  901206792402644992   \n",
       "1521    https://t.co/uOBUOwxLiG https://t.co/I7ltVqs88O  860680215214817280   \n",
       "\n",
       "      target  \n",
       "581        1  \n",
       "410        1  \n",
       "3215       4  \n",
       "1766       1  \n",
       "1723       3  \n",
       "1370       4  \n",
       "3044       4  \n",
       "486        1  \n",
       "426        1  \n",
       "1521       1  "
      ]
     },
     "execution_count": 14,
     "metadata": {},
     "output_type": "execute_result"
    }
   ],
   "source": [
    "# Check sample result to ensure users encoding correctly done.\n",
    "\n",
    "tweets.sample(10)"
   ]
  },
  {
   "cell_type": "code",
   "execution_count": 15,
   "metadata": {
    "scrolled": true
   },
   "outputs": [
    {
     "data": {
      "text/plain": [
       "[(u'https', 9228),\n",
       " (u'http', 3669),\n",
       " (u'aerosmith', 1515),\n",
       " (u'rt', 1001),\n",
       " (u'ddlovato', 801),\n",
       " (u'new', 731),\n",
       " (u'amp', 715),\n",
       " (u'flagaline', 676),\n",
       " (u'love', 599),\n",
       " (u'day', 593),\n",
       " (u'tour', 566),\n",
       " (u'today', 472),\n",
       " (u'just', 472),\n",
       " (u'tonight', 441),\n",
       " (u'night', 420),\n",
       " (u'joeperry', 411),\n",
       " (u'joeykramer', 363),\n",
       " (u'aerohistory', 352),\n",
       " (u'album', 343),\n",
       " (u'thank', 336)]"
      ]
     },
     "execution_count": 15,
     "metadata": {},
     "output_type": "execute_result"
    }
   ],
   "source": [
    "# Tokenize tweeter words\n",
    "\n",
    "from sklearn.feature_extraction.text import CountVectorizer\n",
    "from collections import Counter\n",
    "\n",
    "cv = CountVectorizer(stop_words= 'english')\n",
    "\n",
    "summaries = ''.join (tweets['text'])\n",
    "ngram_sum = cv.build_analyzer()(summaries)\n",
    "\n",
    "Counter(ngram_sum).most_common(20)"
   ]
  },
  {
   "cell_type": "code",
   "execution_count": 16,
   "metadata": {
    "scrolled": true
   },
   "outputs": [
    {
     "name": "stdout",
     "output_type": "stream",
     "text": [
      "(12865,)\n",
      "(12865,)\n"
     ]
    }
   ],
   "source": [
    "# Define independent variable and the target\n",
    "\n",
    "X = tweets.iloc[:, 4] # independent variable, twitter text\n",
    "y = tweets.iloc[:, 6] # variable, target\n",
    "\n",
    "print (X.shape)\n",
    "print (y.shape)"
   ]
  },
  {
   "cell_type": "code",
   "execution_count": 17,
   "metadata": {
    "collapsed": true,
    "scrolled": true
   },
   "outputs": [],
   "source": [
    "# Split dataset into training & test set. \n",
    "# Training set is used for training machine to recognize tweeter pattern\n",
    "# Test set is used for testing the prediction accuracy\n",
    "# This is a dedent size of twitter feed. I decide to use 80% of the dataset for training, 20% for testing. \n",
    "\n",
    "from sklearn.model_selection import train_test_split\n",
    "\n",
    "X_train, X_test, y_train, y_test = train_test_split(X, y, test_size =0.1)"
   ]
  },
  {
   "cell_type": "code",
   "execution_count": 18,
   "metadata": {},
   "outputs": [
    {
     "data": {
      "text/plain": [
       "(11578,)"
      ]
     },
     "execution_count": 18,
     "metadata": {},
     "output_type": "execute_result"
    }
   ],
   "source": [
    "X_train.shape"
   ]
  },
  {
   "cell_type": "code",
   "execution_count": 19,
   "metadata": {},
   "outputs": [
    {
     "data": {
      "text/plain": [
       "scipy.sparse.csr.csr_matrix"
      ]
     },
     "execution_count": 19,
     "metadata": {},
     "output_type": "execute_result"
    }
   ],
   "source": [
    "# Vectorize the tweets! I will use ngram 1, 1 since the words are very unique\n",
    "\n",
    "vectorizer = CountVectorizer(stop_words='english', ngram_range=(1,1))\n",
    "X_train_dtm = vectorizer.fit_transform(X_train).toarray()\n",
    "X_test_dtm = vectorizer.transform(X_test)\n",
    "\n",
    "type(X_train_dtm)\n",
    "type(X_test_dtm)\n",
    "\n",
    "# Now, the training tweets are being fit and transformed into the document-term sparse matrix\n",
    "# The test tweets are being transform ONLY into document-term spare matrix"
   ]
  },
  {
   "cell_type": "code",
   "execution_count": 20,
   "metadata": {},
   "outputs": [
    {
     "name": "stdout",
     "output_type": "stream",
     "text": [
      "(11578, 23447)\n",
      "(1287, 23447)\n"
     ]
    }
   ],
   "source": [
    "print (X_train_dtm.shape)\n",
    "print (X_test_dtm.shape)"
   ]
  },
  {
   "cell_type": "markdown",
   "metadata": {},
   "source": [
    "### 3) Machine Training"
   ]
  },
  {
   "cell_type": "markdown",
   "metadata": {},
   "source": [
    "#### i) Bernoulli Naive Bayes Algorithm"
   ]
  },
  {
   "cell_type": "code",
   "execution_count": 21,
   "metadata": {
    "scrolled": false
   },
   "outputs": [
    {
     "data": {
      "text/plain": [
       "array([3, 3, 1, 1, 1, 4, 3, 1, 3, 4, 1, 2, 2, 3, 1, 3, 2, 4, 1, 3])"
      ]
     },
     "execution_count": 21,
     "metadata": {},
     "output_type": "execute_result"
    }
   ],
   "source": [
    "# Bernoulli Naive Bayes is to check the likihood of a tweet being predicted correctly. \n",
    "# import Bernoulli from sklearn naive bayes. \n",
    "from sklearn.naive_bayes import BernoulliNB\n",
    "\n",
    "# instantiate the model\n",
    "bernnb = BernoulliNB()\n",
    "\n",
    "# fit the vectorized training tweets\n",
    "bernnb.fit(X_train_dtm, y_train)\n",
    "\n",
    "# Let's do some prediction\n",
    "y_pred_bernnb = bernnb.predict(X_test_dtm)\n",
    "\n",
    "# check prediction\n",
    "y_pred_bernnb[:20]"
   ]
  },
  {
   "cell_type": "code",
   "execution_count": 22,
   "metadata": {},
   "outputs": [
    {
     "name": "stdout",
     "output_type": "stream",
     "text": [
      "the Bernoulli Naive Bayes prediction accuracy score is: 0.591200028573\n"
     ]
    }
   ],
   "source": [
    "# Cross validate the prediction accuracy score for using BernoulliNB \n",
    "\n",
    "from sklearn.model_selection import cross_val_score\n",
    "\n",
    "accuracy_score = cross_val_score(bernnb, X_test_dtm, y_test, cv = 10)\n",
    "accuracy_score = accuracy_score.mean()\n",
    "print ('the Bernoulli Naive Bayes prediction accuracy score is: '  + str(accuracy_score))"
   ]
  },
  {
   "cell_type": "code",
   "execution_count": 23,
   "metadata": {
    "scrolled": true
   },
   "outputs": [
    {
     "data": {
      "text/html": [
       "<div>\n",
       "<style>\n",
       "    .dataframe thead tr:only-child th {\n",
       "        text-align: right;\n",
       "    }\n",
       "\n",
       "    .dataframe thead th {\n",
       "        text-align: left;\n",
       "    }\n",
       "\n",
       "    .dataframe tbody tr th {\n",
       "        vertical-align: top;\n",
       "    }\n",
       "</style>\n",
       "<table border=\"1\" class=\"dataframe\">\n",
       "  <thead>\n",
       "    <tr style=\"text-align: right;\">\n",
       "      <th></th>\n",
       "      <th>Predicted: 1</th>\n",
       "      <th>Predicted: 2</th>\n",
       "      <th>Predicted: 3</th>\n",
       "      <th>Predicted: 4</th>\n",
       "    </tr>\n",
       "  </thead>\n",
       "  <tbody>\n",
       "    <tr>\n",
       "      <th>Actual: 1</th>\n",
       "      <td>325</td>\n",
       "      <td>0</td>\n",
       "      <td>4</td>\n",
       "      <td>7</td>\n",
       "    </tr>\n",
       "    <tr>\n",
       "      <th>Actual: 2</th>\n",
       "      <td>9</td>\n",
       "      <td>289</td>\n",
       "      <td>8</td>\n",
       "      <td>3</td>\n",
       "    </tr>\n",
       "    <tr>\n",
       "      <th>Actual: 3</th>\n",
       "      <td>19</td>\n",
       "      <td>0</td>\n",
       "      <td>264</td>\n",
       "      <td>16</td>\n",
       "    </tr>\n",
       "    <tr>\n",
       "      <th>Actual: 4</th>\n",
       "      <td>22</td>\n",
       "      <td>1</td>\n",
       "      <td>7</td>\n",
       "      <td>313</td>\n",
       "    </tr>\n",
       "  </tbody>\n",
       "</table>\n",
       "</div>"
      ],
      "text/plain": [
       "           Predicted: 1  Predicted: 2  Predicted: 3  Predicted: 4\n",
       "Actual: 1           325             0             4             7\n",
       "Actual: 2             9           289             8             3\n",
       "Actual: 3            19             0           264            16\n",
       "Actual: 4            22             1             7           313"
      ]
     },
     "execution_count": 23,
     "metadata": {},
     "output_type": "execute_result"
    }
   ],
   "source": [
    "# Check how many being predicted correctly\n",
    "\n",
    "from sklearn.metrics import confusion_matrix\n",
    "\n",
    "confusion_bernnb = confusion_matrix(y_test, y_pred_bernnb)\n",
    "\n",
    "confusion_matrix_bernnb = pd.DataFrame(confusion_bernnb, index = ['Actual: 1', 'Actual: 2', 'Actual: 3', 'Actual: 4'],\n",
    "                               columns = ['Predicted: 1', 'Predicted: 2', 'Predicted: 3', 'Predicted: 4'])\n",
    "confusion_matrix_bernnb"
   ]
  },
  {
   "cell_type": "code",
   "execution_count": 48,
   "metadata": {},
   "outputs": [
    {
     "name": "stdout",
     "output_type": "stream",
     "text": [
      "Bernoulli Naive Bayes Prediction accuracy is:  92.0\n"
     ]
    }
   ],
   "source": [
    "print ('Bernoulli Naive Bayes Prediction accuracy is: '),  round((325+289+264+313)/1289.0 * 100)"
   ]
  },
  {
   "cell_type": "code",
   "execution_count": 25,
   "metadata": {},
   "outputs": [
    {
     "data": {
      "text/html": [
       "<div>\n",
       "<style>\n",
       "    .dataframe thead tr:only-child th {\n",
       "        text-align: right;\n",
       "    }\n",
       "\n",
       "    .dataframe thead th {\n",
       "        text-align: left;\n",
       "    }\n",
       "\n",
       "    .dataframe tbody tr th {\n",
       "        vertical-align: top;\n",
       "    }\n",
       "</style>\n",
       "<table border=\"1\" class=\"dataframe\">\n",
       "  <thead>\n",
       "    <tr style=\"text-align: right;\">\n",
       "      <th></th>\n",
       "      <th>Actual</th>\n",
       "      <th>Predict</th>\n",
       "      <th>Test Tweet</th>\n",
       "    </tr>\n",
       "  </thead>\n",
       "  <tbody>\n",
       "    <tr>\n",
       "      <th>3140</th>\n",
       "      <td>1</td>\n",
       "      <td>1</td>\n",
       "      <td>Up next https://t.co/riIlEWW13Y https://t.co/c...</td>\n",
       "    </tr>\n",
       "    <tr>\n",
       "      <th>1491</th>\n",
       "      <td>3</td>\n",
       "      <td>1</td>\n",
       "      <td>Our fans are everything! https://t.co/dN4btIShOl</td>\n",
       "    </tr>\n",
       "    <tr>\n",
       "      <th>2782</th>\n",
       "      <td>3</td>\n",
       "      <td>3</td>\n",
       "      <td>♫ Just Announced: Nashville, TN - Apr 14 at Gr...</td>\n",
       "    </tr>\n",
       "    <tr>\n",
       "      <th>2972</th>\n",
       "      <td>1</td>\n",
       "      <td>1</td>\n",
       "      <td>https://t.co/Mit2x3dev0 https://t.co/Cz57j97gHb</td>\n",
       "    </tr>\n",
       "    <tr>\n",
       "      <th>3203</th>\n",
       "      <td>4</td>\n",
       "      <td>4</td>\n",
       "      <td>FUCK YEAH!!!!!!!!! HERE WE GO!!!!!!! #TeamRous...</td>\n",
       "    </tr>\n",
       "    <tr>\n",
       "      <th>1209</th>\n",
       "      <td>2</td>\n",
       "      <td>2</td>\n",
       "      <td>AeroHistory: @JoePerry on the Aerosmith:ROCKS ...</td>\n",
       "    </tr>\n",
       "    <tr>\n",
       "      <th>622</th>\n",
       "      <td>2</td>\n",
       "      <td>2</td>\n",
       "      <td>RT @JoePerry: #RIPLemmy A true rocker from beg...</td>\n",
       "    </tr>\n",
       "    <tr>\n",
       "      <th>535</th>\n",
       "      <td>1</td>\n",
       "      <td>1</td>\n",
       "      <td>https://t.co/bafdRbalxe https://t.co/9PHIzOnrHz</td>\n",
       "    </tr>\n",
       "    <tr>\n",
       "      <th>417</th>\n",
       "      <td>4</td>\n",
       "      <td>4</td>\n",
       "      <td>@berrodemi @demiscreen @JaxJones @stefflondon ...</td>\n",
       "    </tr>\n",
       "    <tr>\n",
       "      <th>1950</th>\n",
       "      <td>4</td>\n",
       "      <td>4</td>\n",
       "      <td>RT @sheilovatic: @ddlovato your snaps are life</td>\n",
       "    </tr>\n",
       "  </tbody>\n",
       "</table>\n",
       "</div>"
      ],
      "text/plain": [
       "      Actual  Predict                                         Test Tweet\n",
       "3140       1        1  Up next https://t.co/riIlEWW13Y https://t.co/c...\n",
       "1491       3        1   Our fans are everything! https://t.co/dN4btIShOl\n",
       "2782       3        3  ♫ Just Announced: Nashville, TN - Apr 14 at Gr...\n",
       "2972       1        1    https://t.co/Mit2x3dev0 https://t.co/Cz57j97gHb\n",
       "3203       4        4  FUCK YEAH!!!!!!!!! HERE WE GO!!!!!!! #TeamRous...\n",
       "1209       2        2  AeroHistory: @JoePerry on the Aerosmith:ROCKS ...\n",
       "622        2        2  RT @JoePerry: #RIPLemmy A true rocker from beg...\n",
       "535        1        1    https://t.co/bafdRbalxe https://t.co/9PHIzOnrHz\n",
       "417        4        4  @berrodemi @demiscreen @JaxJones @stefflondon ...\n",
       "1950       4        4     RT @sheilovatic: @ddlovato your snaps are life"
      ]
     },
     "execution_count": 25,
     "metadata": {},
     "output_type": "execute_result"
    }
   ],
   "source": [
    "# Check the predition and actual tweet match\n",
    "\n",
    "pd.DataFrame(data = {'Test Tweet': X_test, 'Actual': y_test, 'Predict': y_pred_bernnb}).sample(10)"
   ]
  },
  {
   "cell_type": "markdown",
   "metadata": {},
   "source": [
    "### II) Multinomial Naive Bayes Algorithm"
   ]
  },
  {
   "cell_type": "code",
   "execution_count": 26,
   "metadata": {},
   "outputs": [
    {
     "data": {
      "text/plain": [
       "array([3, 3, 4, 1, 1, 4, 3, 1, 3, 4, 1, 2, 2, 3, 1, 3, 2, 4, 1, 3])"
      ]
     },
     "execution_count": 26,
     "metadata": {},
     "output_type": "execute_result"
    }
   ],
   "source": [
    "from sklearn.naive_bayes import MultinomialNB\n",
    "\n",
    "# instantiate the model\n",
    "multinb = MultinomialNB()\n",
    "\n",
    "# fit the vectorized training tweets\n",
    "multinb.fit(X_train_dtm, y_train)\n",
    "\n",
    "# Let's do some prediction\n",
    "\n",
    "y_pred_multinb = multinb.predict(X_test_dtm)\n",
    "\n",
    "# check prediction\n",
    "y_pred_multinb[:20]"
   ]
  },
  {
   "cell_type": "code",
   "execution_count": 27,
   "metadata": {},
   "outputs": [
    {
     "name": "stdout",
     "output_type": "stream",
     "text": [
      "the Multinormial Naive Bayes prediction accuracy score is: 0.850697758717\n"
     ]
    }
   ],
   "source": [
    "# Cross validate the prediction accuracy score for using MultinomialNB\n",
    "\n",
    "from sklearn.model_selection import cross_val_score\n",
    "\n",
    "accuracy_score = cross_val_score(multinb, X_test_dtm, y_test, cv = 10)\n",
    "accuracy_score = accuracy_score.mean()\n",
    "print ('the Multinormial Naive Bayes prediction accuracy score is: '  + str(accuracy_score))"
   ]
  },
  {
   "cell_type": "code",
   "execution_count": 28,
   "metadata": {
    "scrolled": false
   },
   "outputs": [
    {
     "data": {
      "text/html": [
       "<div>\n",
       "<style>\n",
       "    .dataframe thead tr:only-child th {\n",
       "        text-align: right;\n",
       "    }\n",
       "\n",
       "    .dataframe thead th {\n",
       "        text-align: left;\n",
       "    }\n",
       "\n",
       "    .dataframe tbody tr th {\n",
       "        vertical-align: top;\n",
       "    }\n",
       "</style>\n",
       "<table border=\"1\" class=\"dataframe\">\n",
       "  <thead>\n",
       "    <tr style=\"text-align: right;\">\n",
       "      <th></th>\n",
       "      <th>Predicted: 1</th>\n",
       "      <th>Predicted: 2</th>\n",
       "      <th>Predicted: 3</th>\n",
       "      <th>Predicted: 4</th>\n",
       "    </tr>\n",
       "  </thead>\n",
       "  <tbody>\n",
       "    <tr>\n",
       "      <th>Actual: 1</th>\n",
       "      <td>316</td>\n",
       "      <td>1</td>\n",
       "      <td>6</td>\n",
       "      <td>13</td>\n",
       "    </tr>\n",
       "    <tr>\n",
       "      <th>Actual: 2</th>\n",
       "      <td>1</td>\n",
       "      <td>299</td>\n",
       "      <td>6</td>\n",
       "      <td>3</td>\n",
       "    </tr>\n",
       "    <tr>\n",
       "      <th>Actual: 3</th>\n",
       "      <td>5</td>\n",
       "      <td>5</td>\n",
       "      <td>278</td>\n",
       "      <td>11</td>\n",
       "    </tr>\n",
       "    <tr>\n",
       "      <th>Actual: 4</th>\n",
       "      <td>8</td>\n",
       "      <td>13</td>\n",
       "      <td>16</td>\n",
       "      <td>306</td>\n",
       "    </tr>\n",
       "  </tbody>\n",
       "</table>\n",
       "</div>"
      ],
      "text/plain": [
       "           Predicted: 1  Predicted: 2  Predicted: 3  Predicted: 4\n",
       "Actual: 1           316             1             6            13\n",
       "Actual: 2             1           299             6             3\n",
       "Actual: 3             5             5           278            11\n",
       "Actual: 4             8            13            16           306"
      ]
     },
     "execution_count": 28,
     "metadata": {},
     "output_type": "execute_result"
    }
   ],
   "source": [
    "confusion_multinb = confusion_matrix(y_test, y_pred_multinb)\n",
    "\n",
    "confusion_matrix_multinb = pd.DataFrame(confusion_multinb, index = ['Actual: 1', 'Actual: 2', 'Actual: 3', 'Actual: 4'],\n",
    "                               columns = ['Predicted: 1', 'Predicted: 2', 'Predicted: 3', 'Predicted: 4'])\n",
    "confusion_matrix_multinb"
   ]
  },
  {
   "cell_type": "code",
   "execution_count": 50,
   "metadata": {},
   "outputs": [
    {
     "name": "stdout",
     "output_type": "stream",
     "text": [
      "Multinomial Naive Bayes Prediction accuracy is:  93.0\n"
     ]
    }
   ],
   "source": [
    "print ('Multinomial Naive Bayes Prediction accuracy is: '),  round((316+299+278+306)/1289.0 * 100)"
   ]
  },
  {
   "cell_type": "code",
   "execution_count": 30,
   "metadata": {},
   "outputs": [
    {
     "data": {
      "text/html": [
       "<div>\n",
       "<style>\n",
       "    .dataframe thead tr:only-child th {\n",
       "        text-align: right;\n",
       "    }\n",
       "\n",
       "    .dataframe thead th {\n",
       "        text-align: left;\n",
       "    }\n",
       "\n",
       "    .dataframe tbody tr th {\n",
       "        vertical-align: top;\n",
       "    }\n",
       "</style>\n",
       "<table border=\"1\" class=\"dataframe\">\n",
       "  <thead>\n",
       "    <tr style=\"text-align: right;\">\n",
       "      <th></th>\n",
       "      <th>Actual</th>\n",
       "      <th>Predict</th>\n",
       "      <th>Test Tweet</th>\n",
       "    </tr>\n",
       "  </thead>\n",
       "  <tbody>\n",
       "    <tr>\n",
       "      <th>2782</th>\n",
       "      <td>3</td>\n",
       "      <td>3</td>\n",
       "      <td>♫ Just Announced: Nashville, TN - Apr 14 at Gr...</td>\n",
       "    </tr>\n",
       "    <tr>\n",
       "      <th>2131</th>\n",
       "      <td>2</td>\n",
       "      <td>2</td>\n",
       "      <td>RT @JoePerry: Brad was unavailable to attend t...</td>\n",
       "    </tr>\n",
       "    <tr>\n",
       "      <th>2402</th>\n",
       "      <td>3</td>\n",
       "      <td>3</td>\n",
       "      <td>♫ Today: Maya, Mexico - Jan 25 at Crash My Pla...</td>\n",
       "    </tr>\n",
       "    <tr>\n",
       "      <th>2588</th>\n",
       "      <td>4</td>\n",
       "      <td>4</td>\n",
       "      <td>Listen to #CONFIDENT on @Rdio!!! https://t.co/...</td>\n",
       "    </tr>\n",
       "    <tr>\n",
       "      <th>1457</th>\n",
       "      <td>3</td>\n",
       "      <td>3</td>\n",
       "      <td>RT @PlayBkPlay: 🐙 https://t.co/teGpoV0RG5</td>\n",
       "    </tr>\n",
       "    <tr>\n",
       "      <th>2393</th>\n",
       "      <td>4</td>\n",
       "      <td>4</td>\n",
       "      <td>Also, why do we care this much about a cup.......</td>\n",
       "    </tr>\n",
       "    <tr>\n",
       "      <th>2517</th>\n",
       "      <td>1</td>\n",
       "      <td>1</td>\n",
       "      <td>https://t.co/aMG7JZfq8C https://t.co/pnBaWowHEk</td>\n",
       "    </tr>\n",
       "    <tr>\n",
       "      <th>2648</th>\n",
       "      <td>3</td>\n",
       "      <td>3</td>\n",
       "      <td>Check out the new single from our good buddy, ...</td>\n",
       "    </tr>\n",
       "    <tr>\n",
       "      <th>2368</th>\n",
       "      <td>4</td>\n",
       "      <td>4</td>\n",
       "      <td>RT @iambeckyg: @ddlovato never fails to blow m...</td>\n",
       "    </tr>\n",
       "    <tr>\n",
       "      <th>3001</th>\n",
       "      <td>2</td>\n",
       "      <td>2</td>\n",
       "      <td>Nothing says 'I Love You' like this Aerosmith ...</td>\n",
       "    </tr>\n",
       "  </tbody>\n",
       "</table>\n",
       "</div>"
      ],
      "text/plain": [
       "      Actual  Predict                                         Test Tweet\n",
       "2782       3        3  ♫ Just Announced: Nashville, TN - Apr 14 at Gr...\n",
       "2131       2        2  RT @JoePerry: Brad was unavailable to attend t...\n",
       "2402       3        3  ♫ Today: Maya, Mexico - Jan 25 at Crash My Pla...\n",
       "2588       4        4  Listen to #CONFIDENT on @Rdio!!! https://t.co/...\n",
       "1457       3        3         RT @PlayBkPlay: 🐙 https://t.co/teGpoV0RG5\n",
       "2393       4        4  Also, why do we care this much about a cup.......\n",
       "2517       1        1    https://t.co/aMG7JZfq8C https://t.co/pnBaWowHEk\n",
       "2648       3        3  Check out the new single from our good buddy, ...\n",
       "2368       4        4  RT @iambeckyg: @ddlovato never fails to blow m...\n",
       "3001       2        2  Nothing says 'I Love You' like this Aerosmith ..."
      ]
     },
     "execution_count": 30,
     "metadata": {},
     "output_type": "execute_result"
    }
   ],
   "source": [
    "# Match the multinomial naive bayes algorithm predictions to actual\n",
    "\n",
    "pd.DataFrame(data = {'Test Tweet': X_test, 'Actual': y_test, 'Predict': y_pred_multinb}).sample(10)"
   ]
  },
  {
   "cell_type": "markdown",
   "metadata": {},
   "source": [
    "### III) Logistic Regression Algorithm"
   ]
  },
  {
   "cell_type": "code",
   "execution_count": 31,
   "metadata": {},
   "outputs": [
    {
     "data": {
      "text/plain": [
       "array([3, 3, 1, 1, 1, 4, 3, 1, 3, 4, 1, 2, 2, 3, 4, 3, 2, 4, 1, 3])"
      ]
     },
     "execution_count": 31,
     "metadata": {},
     "output_type": "execute_result"
    }
   ],
   "source": [
    "from sklearn.linear_model import LogisticRegression\n",
    "\n",
    "# instantiate the model\n",
    "logreg = LogisticRegression()\n",
    "\n",
    "# fit the vectorized training tweets\n",
    "logreg.fit(X_train_dtm, y_train)\n",
    "\n",
    "# Let's do some predictio\n",
    "\n",
    "y_pred_logreg = logreg.predict(X_test_dtm)\n",
    "\n",
    "# check prediction\n",
    "y_pred_logreg[:20]"
   ]
  },
  {
   "cell_type": "code",
   "execution_count": 32,
   "metadata": {},
   "outputs": [
    {
     "name": "stdout",
     "output_type": "stream",
     "text": [
      "the Logistic Regression prediction accuracy score is: 0.843665652419\n"
     ]
    }
   ],
   "source": [
    "# Cross validate the prediction accuracy score for using LogisticRegression\n",
    "\n",
    "from sklearn.model_selection import cross_val_score\n",
    "\n",
    "accuracy_score = cross_val_score(logreg, X_test_dtm, y_test, cv = 10)\n",
    "accuracy_score = accuracy_score.mean()\n",
    "print ('the Logistic Regression prediction accuracy score is: '  + str(accuracy_score))"
   ]
  },
  {
   "cell_type": "code",
   "execution_count": 33,
   "metadata": {
    "scrolled": true
   },
   "outputs": [
    {
     "data": {
      "text/html": [
       "<div>\n",
       "<style>\n",
       "    .dataframe thead tr:only-child th {\n",
       "        text-align: right;\n",
       "    }\n",
       "\n",
       "    .dataframe thead th {\n",
       "        text-align: left;\n",
       "    }\n",
       "\n",
       "    .dataframe tbody tr th {\n",
       "        vertical-align: top;\n",
       "    }\n",
       "</style>\n",
       "<table border=\"1\" class=\"dataframe\">\n",
       "  <thead>\n",
       "    <tr style=\"text-align: right;\">\n",
       "      <th></th>\n",
       "      <th>Predicted: 1</th>\n",
       "      <th>Predicted: 2</th>\n",
       "      <th>Predicted: 3</th>\n",
       "      <th>Predicted: 4</th>\n",
       "    </tr>\n",
       "  </thead>\n",
       "  <tbody>\n",
       "    <tr>\n",
       "      <th>Actual: 1</th>\n",
       "      <td>328</td>\n",
       "      <td>0</td>\n",
       "      <td>3</td>\n",
       "      <td>5</td>\n",
       "    </tr>\n",
       "    <tr>\n",
       "      <th>Actual: 2</th>\n",
       "      <td>9</td>\n",
       "      <td>288</td>\n",
       "      <td>7</td>\n",
       "      <td>5</td>\n",
       "    </tr>\n",
       "    <tr>\n",
       "      <th>Actual: 3</th>\n",
       "      <td>15</td>\n",
       "      <td>1</td>\n",
       "      <td>262</td>\n",
       "      <td>21</td>\n",
       "    </tr>\n",
       "    <tr>\n",
       "      <th>Actual: 4</th>\n",
       "      <td>20</td>\n",
       "      <td>3</td>\n",
       "      <td>10</td>\n",
       "      <td>310</td>\n",
       "    </tr>\n",
       "  </tbody>\n",
       "</table>\n",
       "</div>"
      ],
      "text/plain": [
       "           Predicted: 1  Predicted: 2  Predicted: 3  Predicted: 4\n",
       "Actual: 1           328             0             3             5\n",
       "Actual: 2             9           288             7             5\n",
       "Actual: 3            15             1           262            21\n",
       "Actual: 4            20             3            10           310"
      ]
     },
     "execution_count": 33,
     "metadata": {},
     "output_type": "execute_result"
    }
   ],
   "source": [
    "confusion_logreg = confusion_matrix(y_test, y_pred_logreg)\n",
    "\n",
    "confusion_matrix_logreg = pd.DataFrame(confusion_logreg, index = ['Actual: 1', 'Actual: 2', 'Actual: 3', 'Actual: 4'],\n",
    "                               columns = ['Predicted: 1', 'Predicted: 2', 'Predicted: 3', 'Predicted: 4'])\n",
    "confusion_matrix_logreg"
   ]
  },
  {
   "cell_type": "code",
   "execution_count": 51,
   "metadata": {},
   "outputs": [
    {
     "name": "stdout",
     "output_type": "stream",
     "text": [
      "Logistics Regression prediction accuracy is:  92.0\n"
     ]
    }
   ],
   "source": [
    "print ('Logistics Regression prediction accuracy is: '),  round((328+288+262+310)/1289.0 * 100)"
   ]
  },
  {
   "cell_type": "code",
   "execution_count": 35,
   "metadata": {},
   "outputs": [
    {
     "data": {
      "text/html": [
       "<div>\n",
       "<style>\n",
       "    .dataframe thead tr:only-child th {\n",
       "        text-align: right;\n",
       "    }\n",
       "\n",
       "    .dataframe thead th {\n",
       "        text-align: left;\n",
       "    }\n",
       "\n",
       "    .dataframe tbody tr th {\n",
       "        vertical-align: top;\n",
       "    }\n",
       "</style>\n",
       "<table border=\"1\" class=\"dataframe\">\n",
       "  <thead>\n",
       "    <tr style=\"text-align: right;\">\n",
       "      <th></th>\n",
       "      <th>Actual</th>\n",
       "      <th>Predict</th>\n",
       "      <th>Test Tweet</th>\n",
       "    </tr>\n",
       "  </thead>\n",
       "  <tbody>\n",
       "    <tr>\n",
       "      <th>2732</th>\n",
       "      <td>3</td>\n",
       "      <td>3</td>\n",
       "      <td>♫ Today: Gainesville, FL - Oct 16 at BURN IT D...</td>\n",
       "    </tr>\n",
       "    <tr>\n",
       "      <th>1893</th>\n",
       "      <td>3</td>\n",
       "      <td>3</td>\n",
       "      <td>Phone blowin up where you is.....party in Virg...</td>\n",
       "    </tr>\n",
       "    <tr>\n",
       "      <th>1636</th>\n",
       "      <td>3</td>\n",
       "      <td>3</td>\n",
       "      <td>♫ Today: New Orleans, LA - Oct 16 at ANYTHING ...</td>\n",
       "    </tr>\n",
       "    <tr>\n",
       "      <th>273</th>\n",
       "      <td>1</td>\n",
       "      <td>1</td>\n",
       "      <td>https://t.co/xUEOPZKJ7M https://t.co/SUEIrYQvMK</td>\n",
       "    </tr>\n",
       "    <tr>\n",
       "      <th>1374</th>\n",
       "      <td>2</td>\n",
       "      <td>2</td>\n",
       "      <td>Be blown away by Aerosmith on the big screen f...</td>\n",
       "    </tr>\n",
       "    <tr>\n",
       "      <th>225</th>\n",
       "      <td>3</td>\n",
       "      <td>3</td>\n",
       "      <td>Heard we’ve been nominated for 2 @radiodisney ...</td>\n",
       "    </tr>\n",
       "    <tr>\n",
       "      <th>1827</th>\n",
       "      <td>2</td>\n",
       "      <td>2</td>\n",
       "      <td>.@MusiCares @aerosmith Premium Concert &amp;amp; M...</td>\n",
       "    </tr>\n",
       "    <tr>\n",
       "      <th>2964</th>\n",
       "      <td>2</td>\n",
       "      <td>2</td>\n",
       "      <td>This day in #AeroHistory: February 24, 1999 - ...</td>\n",
       "    </tr>\n",
       "    <tr>\n",
       "      <th>131</th>\n",
       "      <td>3</td>\n",
       "      <td>3</td>\n",
       "      <td>Yessss! Thanks for stopping by! @fglhouse http...</td>\n",
       "    </tr>\n",
       "    <tr>\n",
       "      <th>2894</th>\n",
       "      <td>2</td>\n",
       "      <td>2</td>\n",
       "      <td>RT @joeykramer: All I can say is my M&amp;amp;G wi...</td>\n",
       "    </tr>\n",
       "  </tbody>\n",
       "</table>\n",
       "</div>"
      ],
      "text/plain": [
       "      Actual  Predict                                         Test Tweet\n",
       "2732       3        3  ♫ Today: Gainesville, FL - Oct 16 at BURN IT D...\n",
       "1893       3        3  Phone blowin up where you is.....party in Virg...\n",
       "1636       3        3  ♫ Today: New Orleans, LA - Oct 16 at ANYTHING ...\n",
       "273        1        1    https://t.co/xUEOPZKJ7M https://t.co/SUEIrYQvMK\n",
       "1374       2        2  Be blown away by Aerosmith on the big screen f...\n",
       "225        3        3  Heard we’ve been nominated for 2 @radiodisney ...\n",
       "1827       2        2  .@MusiCares @aerosmith Premium Concert &amp; M...\n",
       "2964       2        2  This day in #AeroHistory: February 24, 1999 - ...\n",
       "131        3        3  Yessss! Thanks for stopping by! @fglhouse http...\n",
       "2894       2        2  RT @joeykramer: All I can say is my M&amp;G wi..."
      ]
     },
     "execution_count": 35,
     "metadata": {},
     "output_type": "execute_result"
    }
   ],
   "source": [
    "# Match sample logistic classification predictions to actual\n",
    "\n",
    "pd.DataFrame(data = {'Test Tweet': X_test, 'Actual': y_test, 'Predict': y_pred_logreg}).sample(10)"
   ]
  },
  {
   "cell_type": "markdown",
   "metadata": {},
   "source": [
    "### IIII) Raindom Forest Classifier Algorithm"
   ]
  },
  {
   "cell_type": "code",
   "execution_count": 36,
   "metadata": {},
   "outputs": [
    {
     "data": {
      "text/plain": [
       "array([3, 3, 1, 1, 1, 4, 2, 1, 3, 4, 1, 2, 2, 3, 4, 3, 2, 4, 1, 3])"
      ]
     },
     "execution_count": 36,
     "metadata": {},
     "output_type": "execute_result"
    }
   ],
   "source": [
    "from sklearn.ensemble import RandomForestClassifier\n",
    "\n",
    "# instantiate the model\n",
    "forest = RandomForestClassifier()\n",
    "\n",
    "# fit the vectorized training tweets\n",
    "forest.fit(X_train_dtm, y_train)\n",
    "\n",
    "# Let's do some prediction\n",
    "\n",
    "y_pred_forest = forest.predict(X_test_dtm)\n",
    "\n",
    "# check prediction\n",
    "y_pred_forest[:20]"
   ]
  },
  {
   "cell_type": "code",
   "execution_count": 37,
   "metadata": {},
   "outputs": [
    {
     "name": "stdout",
     "output_type": "stream",
     "text": [
      "The Random Forst Classifier prediction accuracy score is: 0.793879877793\n"
     ]
    }
   ],
   "source": [
    "# Cross validate the prediction accuracy score for using Randomtree\n",
    "\n",
    "from sklearn.model_selection import cross_val_score\n",
    "\n",
    "accuracy_score = cross_val_score(forest, X_test_dtm, y_test, cv = 10)\n",
    "accuracy_score = accuracy_score.mean()\n",
    "print ('The Random Forst Classifier prediction accuracy score is: '  + str(accuracy_score))"
   ]
  },
  {
   "cell_type": "code",
   "execution_count": 38,
   "metadata": {
    "scrolled": false
   },
   "outputs": [
    {
     "data": {
      "text/html": [
       "<div>\n",
       "<style>\n",
       "    .dataframe thead tr:only-child th {\n",
       "        text-align: right;\n",
       "    }\n",
       "\n",
       "    .dataframe thead th {\n",
       "        text-align: left;\n",
       "    }\n",
       "\n",
       "    .dataframe tbody tr th {\n",
       "        vertical-align: top;\n",
       "    }\n",
       "</style>\n",
       "<table border=\"1\" class=\"dataframe\">\n",
       "  <thead>\n",
       "    <tr style=\"text-align: right;\">\n",
       "      <th></th>\n",
       "      <th>Predicted: 1</th>\n",
       "      <th>Predicted: 2</th>\n",
       "      <th>Predicted: 3</th>\n",
       "      <th>Predicted: 4</th>\n",
       "    </tr>\n",
       "  </thead>\n",
       "  <tbody>\n",
       "    <tr>\n",
       "      <th>Actual: 1</th>\n",
       "      <td>325</td>\n",
       "      <td>0</td>\n",
       "      <td>4</td>\n",
       "      <td>7</td>\n",
       "    </tr>\n",
       "    <tr>\n",
       "      <th>Actual: 2</th>\n",
       "      <td>9</td>\n",
       "      <td>290</td>\n",
       "      <td>6</td>\n",
       "      <td>4</td>\n",
       "    </tr>\n",
       "    <tr>\n",
       "      <th>Actual: 3</th>\n",
       "      <td>11</td>\n",
       "      <td>8</td>\n",
       "      <td>253</td>\n",
       "      <td>27</td>\n",
       "    </tr>\n",
       "    <tr>\n",
       "      <th>Actual: 4</th>\n",
       "      <td>15</td>\n",
       "      <td>5</td>\n",
       "      <td>30</td>\n",
       "      <td>293</td>\n",
       "    </tr>\n",
       "  </tbody>\n",
       "</table>\n",
       "</div>"
      ],
      "text/plain": [
       "           Predicted: 1  Predicted: 2  Predicted: 3  Predicted: 4\n",
       "Actual: 1           325             0             4             7\n",
       "Actual: 2             9           290             6             4\n",
       "Actual: 3            11             8           253            27\n",
       "Actual: 4            15             5            30           293"
      ]
     },
     "execution_count": 38,
     "metadata": {},
     "output_type": "execute_result"
    }
   ],
   "source": [
    "confusion_forest = confusion_matrix(y_test, y_pred_forest)\n",
    "\n",
    "confusion_matrix_forest = pd.DataFrame(confusion_forest, index = ['Actual: 1', 'Actual: 2', 'Actual: 3', 'Actual: 4'],\n",
    "                               columns = ['Predicted: 1', 'Predicted: 2', 'Predicted: 3', 'Predicted: 4'])\n",
    "confusion_matrix_forest"
   ]
  },
  {
   "cell_type": "code",
   "execution_count": 52,
   "metadata": {},
   "outputs": [
    {
     "name": "stdout",
     "output_type": "stream",
     "text": [
      "Random Forest prediction accuracy is:  90.0\n"
     ]
    }
   ],
   "source": [
    "print ('Random Forest prediction accuracy is: '),  round((325+290+253+293)/1289.0 * 100)"
   ]
  },
  {
   "cell_type": "code",
   "execution_count": 40,
   "metadata": {},
   "outputs": [
    {
     "data": {
      "text/html": [
       "<div>\n",
       "<style>\n",
       "    .dataframe thead tr:only-child th {\n",
       "        text-align: right;\n",
       "    }\n",
       "\n",
       "    .dataframe thead th {\n",
       "        text-align: left;\n",
       "    }\n",
       "\n",
       "    .dataframe tbody tr th {\n",
       "        vertical-align: top;\n",
       "    }\n",
       "</style>\n",
       "<table border=\"1\" class=\"dataframe\">\n",
       "  <thead>\n",
       "    <tr style=\"text-align: right;\">\n",
       "      <th></th>\n",
       "      <th>Actual</th>\n",
       "      <th>Predict</th>\n",
       "      <th>Test Tweet</th>\n",
       "    </tr>\n",
       "  </thead>\n",
       "  <tbody>\n",
       "    <tr>\n",
       "      <th>1617</th>\n",
       "      <td>1</td>\n",
       "      <td>1</td>\n",
       "      <td>Exclusive Snoop Dogg + @PUCKHCKY gear availabl...</td>\n",
       "    </tr>\n",
       "    <tr>\n",
       "      <th>2462</th>\n",
       "      <td>3</td>\n",
       "      <td>3</td>\n",
       "      <td>♫ Just Announced: Bakersfield, CA - Aug 27 at ...</td>\n",
       "    </tr>\n",
       "    <tr>\n",
       "      <th>2958</th>\n",
       "      <td>3</td>\n",
       "      <td>3</td>\n",
       "      <td>RT @FlaGaLineNET: @FLAGALine Pic of the Day ||...</td>\n",
       "    </tr>\n",
       "    <tr>\n",
       "      <th>2993</th>\n",
       "      <td>4</td>\n",
       "      <td>4</td>\n",
       "      <td>Pre-order my new album #Confident NOW and get ...</td>\n",
       "    </tr>\n",
       "    <tr>\n",
       "      <th>606</th>\n",
       "      <td>3</td>\n",
       "      <td>3</td>\n",
       "      <td>RT @TraceyT369: I LOVED that performance by @F...</td>\n",
       "    </tr>\n",
       "    <tr>\n",
       "      <th>1542</th>\n",
       "      <td>4</td>\n",
       "      <td>4</td>\n",
       "      <td>@PerezHilton relax.. I didn't shade anyone. If...</td>\n",
       "    </tr>\n",
       "    <tr>\n",
       "      <th>1424</th>\n",
       "      <td>3</td>\n",
       "      <td>3</td>\n",
       "      <td>Tickets on sale today! #endicott on sale now, ...</td>\n",
       "    </tr>\n",
       "    <tr>\n",
       "      <th>1009</th>\n",
       "      <td>4</td>\n",
       "      <td>4</td>\n",
       "      <td>@_overcastkidxx 😉</td>\n",
       "    </tr>\n",
       "    <tr>\n",
       "      <th>2076</th>\n",
       "      <td>4</td>\n",
       "      <td>4</td>\n",
       "      <td>@liownhearts more than you can imagine</td>\n",
       "    </tr>\n",
       "    <tr>\n",
       "      <th>528</th>\n",
       "      <td>4</td>\n",
       "      <td>1</td>\n",
       "      <td>🙋🏻🙋🏻🙋🏻🙋🏻 https://t.co/Dg1Fl45G2u</td>\n",
       "    </tr>\n",
       "  </tbody>\n",
       "</table>\n",
       "</div>"
      ],
      "text/plain": [
       "      Actual  Predict                                         Test Tweet\n",
       "1617       1        1  Exclusive Snoop Dogg + @PUCKHCKY gear availabl...\n",
       "2462       3        3  ♫ Just Announced: Bakersfield, CA - Aug 27 at ...\n",
       "2958       3        3  RT @FlaGaLineNET: @FLAGALine Pic of the Day ||...\n",
       "2993       4        4  Pre-order my new album #Confident NOW and get ...\n",
       "606        3        3  RT @TraceyT369: I LOVED that performance by @F...\n",
       "1542       4        4  @PerezHilton relax.. I didn't shade anyone. If...\n",
       "1424       3        3  Tickets on sale today! #endicott on sale now, ...\n",
       "1009       4        4                                 @_overcastkidxx 😉\n",
       "2076       4        4             @liownhearts more than you can imagine\n",
       "528        4        1           🙋🏻🙋🏻🙋🏻🙋🏻 https://t.co/Dg1Fl45G2u"
      ]
     },
     "execution_count": 40,
     "metadata": {},
     "output_type": "execute_result"
    }
   ],
   "source": [
    "pd.DataFrame(data = {'Test Tweet': X_test, 'Actual': y_test, 'Predict': y_pred_forest}).sample(10)"
   ]
  },
  {
   "cell_type": "code",
   "execution_count": 41,
   "metadata": {
    "collapsed": true
   },
   "outputs": [],
   "source": [
    "import matplotlib.pyplot as plt"
   ]
  },
  {
   "cell_type": "code",
   "execution_count": 42,
   "metadata": {
    "scrolled": false
   },
   "outputs": [
    {
     "data": {
      "image/png": "[encoded data removed]",
      "text/plain": [
       "<matplotlib.figure.Figure at 0x117110750>"
      ]
     },
     "metadata": {},
     "output_type": "display_data"
    }
   ],
   "source": [
    "# Check which words these users use the most\n",
    "\n",
    "forest_feats= {}\n",
    "for feature, importance in zip(vectorizer.get_feature_names(), forest.feature_importances_):\n",
    "    forest_feats[feature] = importance\n",
    "    \n",
    "forest_feat_importances = pd.DataFrame.from_dict(forest_feats, orient='index').rename(columns={0:'Gini-importance'})\n",
    "forest_feat_importances.sort_values(by='Gini-importance', ascending = False)[10:40].plot(kind = 'bar', \n",
    "                                                                            rot = 90,               \n",
    "                                                                            figsize = (12,5), \n",
    "                                                                            fontsize = 12, \n",
    "                                                                            color = '#4AA02C',\n",
    "                                                                           title = 'Random Forest NLP Word Importance')\n",
    "plt.xlabel('Word', fontsize = 14)\n",
    "plt.ylabel('Gini-importance Score', fontsize = 14)\n",
    "plt.show()"
   ]
  },
  {
   "cell_type": "markdown",
   "metadata": {},
   "source": [
    "### 4) Model Evaluation"
   ]
  },
  {
   "cell_type": "markdown",
   "metadata": {},
   "source": [
    "Four algorithms were used the learn the language pattern. \n",
    "\n",
    "Overall, Multinomial Naive Bayes model yields better results."
   ]
  },
  {
   "cell_type": "markdown",
   "metadata": {},
   "source": [
    "---"
   ]
  },
  {
   "cell_type": "markdown",
   "metadata": {},
   "source": [
    "### What's Next?"
   ]
  },
  {
   "cell_type": "markdown",
   "metadata": {},
   "source": [
    "There are many emojis in the tweets. It would be interesting to learn the frequency of the emojis these users use and the type of emojis they use. "
   ]
  }
 ],
 "metadata": {
  "kernelspec": {
   "display_name": "Python 2",
   "language": "python",
   "name": "python2"
  },
  "language_info": {
   "codemirror_mode": {
    "name": "ipython",
    "version": 2
   },
   "file_extension": ".py",
   "mimetype": "text/x-python",
   "name": "python",
   "nbconvert_exporter": "python",
   "pygments_lexer": "ipython2",
   "version": "2.7.13"
  }
 },
 "nbformat": 4,
 "nbformat_minor": 2
}
