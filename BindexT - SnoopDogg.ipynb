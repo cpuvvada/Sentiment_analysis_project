{
 "cells": [
  {
   "cell_type": "markdown",
   "metadata": {},
   "source": [
    "<img src = 'snoopdogg.png', width = 300 X 100>"
   ]
  },
  {
   "cell_type": "markdown",
   "metadata": {},
   "source": [
    "## 1) Tweeter Mining"
   ]
  },
  {
   "cell_type": "code",
   "execution_count": 32,
   "metadata": {
    "collapsed": true
   },
   "outputs": [],
   "source": [
    "import os\n",
    "import pandas as pd\n",
    "import numpy as np"
   ]
  },
  {
   "cell_type": "code",
   "execution_count": 33,
   "metadata": {
    "collapsed": true
   },
   "outputs": [],
   "source": [
    "import os\n",
    "\n",
    "class EmojiDict(object):\n",
    "\n",
    "    def __init__(self):\n",
    "\n",
    "        #loads the emoji table in the data folder in the package\n",
    "        file_path = os.path.dirname(os.path.abspath(__file__))\n",
    "        emoji_key = pd.read_csv(file_path + '/data/' + 'emoji_table.txt', encoding='utf-8', index_col=0)\n",
    "\n",
    "        #loads the diversity table\n",
    "        diversity_df = pd.read_csv(file_path + '/data/' + 'diversity_table.txt', encoding='utf-8', index_col=0)\n",
    "        \n",
    "        #intialize emoji count\n",
    "        emoji_key['count'] = 0\n",
    "        emoji_dict = emoji_key['count'].to_dict()\n",
    "        emoji_dict_total = emoji_key['count'].to_dict()\n",
    "\n",
    "        #initialize diversity analysis\n",
    "        diversity_df['count'] = 0\n",
    "        diversity_keys = diversity_df['count'].to_dict().keys()\n",
    "        human_emoji = []\n",
    "\n",
    "        for emoji in diversity_keys:\n",
    "\n",
    "            emoji = emoji.replace(u'\\U0001f3fb', '')\n",
    "            emoji = emoji.replace(u'\\U0001f3fc', '')\n",
    "            emoji = emoji.replace(u'\\U0001f3fd', '')\n",
    "            emoji = emoji.replace(u'\\U0001f3fe', '')\n",
    "            emoji = emoji.replace(u'\\U0001f3ff', '')\n",
    "\n",
    "            human_emoji.append(emoji)\n",
    "\n",
    "        human_emoji_unique = list(set(human_emoji))\n",
    "        human_emoji_dict = {}\n",
    "\n",
    "        for emoji in human_emoji_unique:\n",
    "\n",
    "            human_emoji_dict[emoji] = 0\n",
    "\n",
    "        #self define\n",
    "        self.dict = emoji_dict\n",
    "        self.dict_total = emoji_dict_total\n",
    "        self.emoji_list = emoji_dict.keys()\n",
    "        self.baskets = []\n",
    "        self.total_emoji = 0\n",
    "        self.total_indiv_emoji = 0\n",
    "\n",
    "        self.skin_tones = ['\\U0001f3fb', '\\U0001f3fc', '\\U0001f3fd', '\\U0001f3fe', '\\U0001f3ff']\n",
    "        self.skin_tones_dict = {'human_emoji': 0, '\\U0001f3fb':0, '\\U0001f3fc':0, '\\U0001f3fd': 0, '\\U0001f3fe':0, '\\U0001f3ff':0}\n",
    "        self.human_emoji = human_emoji_unique\n",
    "        self.human_emoji_dict = human_emoji_dict\n",
    "\n",
    "\n",
    "\n",
    "    def add_emoji_count(self, text):\n",
    "\n",
    "        #increments a count if an emoji as present\n",
    "        emoji_basket = []\n",
    "\n",
    "        for emoji in self.emoji_list:\n",
    "\n",
    "            if emoji in text:\n",
    "                self.dict[emoji] += 1\n",
    "                emoji_basket.append(emoji)\n",
    "\n",
    "            self.dict_total[emoji]  += text.count(emoji)\n",
    "            self.total_indiv_emoji += text.count(emoji)\n",
    "\n",
    "        human_emoji_count = 0\n",
    "        for emoji in self.human_emoji:\n",
    "\n",
    "            if emoji in text:\n",
    "\n",
    "                human_emoji_count += 1\n",
    "                self.skin_tones_dict['human_emoji'] += 1\n",
    "\n",
    "                for tone in self.skin_tones:\n",
    "\n",
    "                    if emoji.encode('unicode-escape')+tone in text.encode('unicode-escape'):\n",
    "\n",
    "                        self.skin_tones_dict[tone] += 1\n",
    "\n",
    "\n",
    "\n",
    "        if len(emoji_basket) > 0:\n",
    "            self.total_emoji += 1\n",
    "\n",
    "\n",
    "        self.baskets.append(emoji_basket)\n",
    "\n",
    "        return\n",
    "\n",
    "\n",
    "    def create_csv(self, file='emoji_out.csv', total=False):\n",
    "\n",
    "\n",
    "        emoji_df_total = self.dict_total.items()\n",
    "        emoji_df_unique = self.dict.items()\n",
    "\n",
    "\n",
    "      \n",
    "\n",
    "        emoji_count = pd.DataFrame(emoji_df_total, columns=['emoji', 'total'])\n",
    "        emoji_unique = pd.DataFrame(emoji_df_unique, columns=['emoji', 'unique'])\n",
    "\n",
    "        #emoji_count.set_index('emoji')\n",
    "        #emoji_unique.set_index('emoji')\n",
    "\n",
    "        emoji_df = pd.merge(left=emoji_count, right=emoji_unique, on=['emoji'])\n",
    "\n",
    "        emoji_df.sort(\"unique\", ascending=False)\n",
    "\n",
    "        #writes output file\n",
    "        #possible rewrite this so it doesn't use pandas\n",
    "        with open(file, 'w') as f:\n",
    "            emoji_df.to_csv(f, sep=',', index = False, encoding='utf-8')\n",
    "        return\n",
    "\n",
    "\n",
    "    def clear(self):\n",
    "\n",
    "        for emoji in self.dict.keys():\n",
    "            self.dict[emoji] = 0\n",
    "        return\n",
    "\n",
    "\n",
    "    def __str__(self):\n",
    "        return str(self.dict)\n"
   ]
  },
  {
   "cell_type": "code",
   "execution_count": 34,
   "metadata": {
    "collapsed": true
   },
   "outputs": [],
   "source": [
    "import twitter, re, datetime, pandas as pd\n",
    "from collections import defaultdict\n",
    "\n",
    "# your keys go here:\n",
    "twitter_keys = {\n",
    "    'consumer_key':        'VgoJyqsPKIJiJFKCZ0jxtK2K0',\n",
    "    'consumer_secret':     '2a4LDYNR2HnkLBkCLgtpmdCTcqKSD9pRjTIU2LXRKkbQz6DXQD',\n",
    "    'access_token_key':    '202347836-xYk1wedC9Ohb1hW1cnm480pe4HyjemEVxVGkYJW6',\n",
    "    'access_token_secret': 'kpgjoxRgAWrMx0OUWit8Rv3cYFEoLGGDBGzRKGRWHQBMt'\n",
    "}\n",
    "\n",
    "api = twitter.Api(\n",
    "    consumer_key         =   twitter_keys['consumer_key'],\n",
    "    consumer_secret      =   twitter_keys['consumer_secret'],\n",
    "    access_token_key     =   twitter_keys['access_token_key'],\n",
    "    access_token_secret  =   twitter_keys['access_token_secret']\n",
    ")\n"
   ]
  },
  {
   "cell_type": "code",
   "execution_count": 35,
   "metadata": {
    "collapsed": true
   },
   "outputs": [],
   "source": [
    "class TweetMiner(object):\n",
    "\n",
    "    result_limit    =   1000  \n",
    "    api             =   False\n",
    "    data            =   []\n",
    "    \n",
    "    def __init__(self, keys_dict, api, result_limit = 5000):\n",
    "        \n",
    "        self.api = api\n",
    "        self.twitter_keys = keys_dict\n",
    "        \n",
    "        self.result_limit = result_limit\n",
    "        \n",
    "\n",
    "    def mine_user_tweets(self, user=\"SnoopDogg\", mine_rewteets=False, max_pages=30):\n",
    "\n",
    "        data           =  []\n",
    "        last_tweet_id  =  False\n",
    "        page           =  1\n",
    "        \n",
    "        while page <= max_pages:\n",
    "            \n",
    "            if last_tweet_id:\n",
    "                statuses   =   self.api.GetUserTimeline(screen_name=user, count=self.result_limit, max_id=last_tweet_id - 1)        \n",
    "            else:\n",
    "                statuses   =   self.api.GetUserTimeline(screen_name=user, count=self.result_limit)\n",
    "                \n",
    "            for item in statuses:\n",
    "\n",
    "                mined = {\n",
    "                    'tweet_id':        item.id,\n",
    "                    'handle':          item.user.name,\n",
    "                    'retweet_count':   item.retweet_count,\n",
    "                    'text':            item.text,\n",
    "                    'mined_at':        datetime.datetime.now(),\n",
    "                    'created_at':      item.created_at,\n",
    "                }\n",
    "                \n",
    "                last_tweet_id = item.id\n",
    "                data.append(mined)\n",
    "                \n",
    "            page += 1\n",
    "            \n",
    "        return data"
   ]
  },
  {
   "cell_type": "code",
   "execution_count": 36,
   "metadata": {},
   "outputs": [],
   "source": [
    "miner = TweetMiner(keys_dict = twitter_keys, api = api, result_limit=6000)"
   ]
  },
  {
   "cell_type": "code",
   "execution_count": 37,
   "metadata": {},
   "outputs": [],
   "source": [
    "snoopdogg = miner.mine_user_tweets(user = 'SnoopDogg')\n",
    "aerosmith = miner.mine_user_tweets(user = 'aerosmith')\n",
    "flagaline = miner.mine_user_tweets(user = 'FLAGALine')\n",
    "lovato = miner.mine_user_tweets(user = 'ddlovato')"
   ]
  },
  {
   "cell_type": "code",
   "execution_count": 38,
   "metadata": {
    "scrolled": false
   },
   "outputs": [
    {
     "data": {
      "text/plain": [
       "[{'created_at': u'Sun Oct 15 05:54:01 +0000 2017',\n",
       "  'handle': u'Snoop Dogg',\n",
       "  'mined_at': datetime.datetime(2017, 10, 15, 9, 39, 25, 454003),\n",
       "  'retweet_count': 459,\n",
       "  'text': u'Oct 27 \\U0001f525\\U0001f525 https://t.co/y6V77JfnFw https://t.co/K2AggETFJO',\n",
       "  'tweet_id': 919441209558552576},\n",
       " {'created_at': u'Sun Oct 15 03:54:28 +0000 2017',\n",
       "  'handle': u'Snoop Dogg',\n",
       "  'mined_at': datetime.datetime(2017, 10, 15, 9, 39, 25, 454028),\n",
       "  'retweet_count': 59,\n",
       "  'text': u'https://t.co/KVeaNXzXog https://t.co/v6Ma1PO6ma',\n",
       "  'tweet_id': 919411123270635525},\n",
       " {'created_at': u'Sat Oct 14 22:59:51 +0000 2017',\n",
       "  'handle': u'Snoop Dogg',\n",
       "  'mined_at': datetime.datetime(2017, 10, 15, 9, 39, 25, 454033),\n",
       "  'retweet_count': 56,\n",
       "  'text': u'Libra season.  @usher https://t.co/1ZWL2FxUSU https://t.co/mMqpBx3379',\n",
       "  'tweet_id': 919336979422154753},\n",
       " {'created_at': u'Sat Oct 14 22:40:19 +0000 2017',\n",
       "  'handle': u'Snoop Dogg',\n",
       "  'mined_at': datetime.datetime(2017, 10, 15, 9, 39, 25, 454036),\n",
       "  'retweet_count': 126,\n",
       "  'text': u\"guess who's back . \\U0001f64c\\U0001f3ff checc out #marthaandsnoop this monday 10/9c. on @vh1 . https://t.co/Rw5tYhYWOg\",\n",
       "  'tweet_id': 919332066126217216},\n",
       " {'created_at': u'Sat Oct 14 22:39:20 +0000 2017',\n",
       "  'handle': u'Snoop Dogg',\n",
       "  'mined_at': datetime.datetime(2017, 10, 15, 9, 39, 25, 454040),\n",
       "  'retweet_count': 263,\n",
       "  'text': u'https://t.co/VZCqFCxnbx https://t.co/aZgx8rFva4',\n",
       "  'tweet_id': 919331819182612480},\n",
       " {'created_at': u'Sat Oct 14 22:10:13 +0000 2017',\n",
       "  'handle': u'Snoop Dogg',\n",
       "  'mined_at': datetime.datetime(2017, 10, 15, 9, 39, 25, 454044),\n",
       "  'retweet_count': 268,\n",
       "  'text': u'https://t.co/mYthBtAjsG https://t.co/EWN5JDq7Ut',\n",
       "  'tweet_id': 919324492123529216},\n",
       " {'created_at': u'Sat Oct 14 18:10:48 +0000 2017',\n",
       "  'handle': u'Snoop Dogg',\n",
       "  'mined_at': datetime.datetime(2017, 10, 15, 9, 39, 25, 454048),\n",
       "  'retweet_count': 1579,\n",
       "  'text': u'Oct 27 new snoop Dogg. \\U0001f525\\U0001f525\\U0001f525\\U0001f50c\\U0001f1fa\\U0001f1f8 https://t.co/9oH0Clgkiv https://t.co/eVUJA9q3m3',\n",
       "  'tweet_id': 919264239222771712},\n",
       " {'created_at': u'Sat Oct 14 16:44:52 +0000 2017',\n",
       "  'handle': u'Snoop Dogg',\n",
       "  'mined_at': datetime.datetime(2017, 10, 15, 9, 39, 25, 454055),\n",
       "  'retweet_count': 159,\n",
       "  'text': u'\\U0001f937\\U0001f3fe\\u200d\\u2642\\ufe0f\\U0001f937\\U0001f3fe\\u200d\\u2642\\ufe0f https://t.co/zIp4SjWan7 https://t.co/Oz2FbIv0n4',\n",
       "  'tweet_id': 919242611763838978},\n",
       " {'created_at': u'Sat Oct 14 16:44:40 +0000 2017',\n",
       "  'handle': u'Snoop Dogg',\n",
       "  'mined_at': datetime.datetime(2017, 10, 15, 9, 39, 25, 454059),\n",
       "  'retweet_count': 738,\n",
       "  'text': u'https://t.co/YV4XhnNCwI https://t.co/kRXxomBSXI',\n",
       "  'tweet_id': 919242564670296064},\n",
       " {'created_at': u'Sat Oct 14 03:58:46 +0000 2017',\n",
       "  'handle': u'Snoop Dogg',\n",
       "  'mined_at': datetime.datetime(2017, 10, 15, 9, 39, 25, 454062),\n",
       "  'retweet_count': 19,\n",
       "  'text': u'RT @TheOffical357: @SnoopDogg finna take over television',\n",
       "  'tweet_id': 919049816579043334}]"
      ]
     },
     "execution_count": 38,
     "metadata": {},
     "output_type": "execute_result"
    }
   ],
   "source": [
    "snoopdogg[:10]"
   ]
  },
  {
   "cell_type": "code",
   "execution_count": 39,
   "metadata": {
    "scrolled": true
   },
   "outputs": [
    {
     "data": {
      "text/html": [
       "<div>\n",
       "<style>\n",
       "    .dataframe thead tr:only-child th {\n",
       "        text-align: right;\n",
       "    }\n",
       "\n",
       "    .dataframe thead th {\n",
       "        text-align: left;\n",
       "    }\n",
       "\n",
       "    .dataframe tbody tr th {\n",
       "        vertical-align: top;\n",
       "    }\n",
       "</style>\n",
       "<table border=\"1\" class=\"dataframe\">\n",
       "  <thead>\n",
       "    <tr style=\"text-align: right;\">\n",
       "      <th></th>\n",
       "      <th>created_at</th>\n",
       "      <th>handle</th>\n",
       "      <th>mined_at</th>\n",
       "      <th>retweet_count</th>\n",
       "      <th>text</th>\n",
       "      <th>tweet_id</th>\n",
       "    </tr>\n",
       "  </thead>\n",
       "  <tbody>\n",
       "    <tr>\n",
       "      <th>0</th>\n",
       "      <td>Sun Oct 15 05:54:01 +0000 2017</td>\n",
       "      <td>Snoop Dogg</td>\n",
       "      <td>2017-10-15 09:39:25.454003</td>\n",
       "      <td>459</td>\n",
       "      <td>Oct 27 🔥🔥 https://t.co/y6V77JfnFw https://t....</td>\n",
       "      <td>919441209558552576</td>\n",
       "    </tr>\n",
       "    <tr>\n",
       "      <th>1</th>\n",
       "      <td>Sun Oct 15 03:54:28 +0000 2017</td>\n",
       "      <td>Snoop Dogg</td>\n",
       "      <td>2017-10-15 09:39:25.454028</td>\n",
       "      <td>59</td>\n",
       "      <td>https://t.co/KVeaNXzXog https://t.co/v6Ma1PO6ma</td>\n",
       "      <td>919411123270635525</td>\n",
       "    </tr>\n",
       "    <tr>\n",
       "      <th>2</th>\n",
       "      <td>Sat Oct 14 22:59:51 +0000 2017</td>\n",
       "      <td>Snoop Dogg</td>\n",
       "      <td>2017-10-15 09:39:25.454033</td>\n",
       "      <td>56</td>\n",
       "      <td>Libra season.  @usher https://t.co/1ZWL2FxUSU ...</td>\n",
       "      <td>919336979422154753</td>\n",
       "    </tr>\n",
       "    <tr>\n",
       "      <th>3</th>\n",
       "      <td>Sat Oct 14 22:40:19 +0000 2017</td>\n",
       "      <td>Snoop Dogg</td>\n",
       "      <td>2017-10-15 09:39:25.454036</td>\n",
       "      <td>126</td>\n",
       "      <td>guess who's back . 🙌🏿 checc out #marthaandsn...</td>\n",
       "      <td>919332066126217216</td>\n",
       "    </tr>\n",
       "    <tr>\n",
       "      <th>4</th>\n",
       "      <td>Sat Oct 14 22:39:20 +0000 2017</td>\n",
       "      <td>Snoop Dogg</td>\n",
       "      <td>2017-10-15 09:39:25.454040</td>\n",
       "      <td>263</td>\n",
       "      <td>https://t.co/VZCqFCxnbx https://t.co/aZgx8rFva4</td>\n",
       "      <td>919331819182612480</td>\n",
       "    </tr>\n",
       "    <tr>\n",
       "      <th>5</th>\n",
       "      <td>Sat Oct 14 22:10:13 +0000 2017</td>\n",
       "      <td>Snoop Dogg</td>\n",
       "      <td>2017-10-15 09:39:25.454044</td>\n",
       "      <td>268</td>\n",
       "      <td>https://t.co/mYthBtAjsG https://t.co/EWN5JDq7Ut</td>\n",
       "      <td>919324492123529216</td>\n",
       "    </tr>\n",
       "    <tr>\n",
       "      <th>6</th>\n",
       "      <td>Sat Oct 14 18:10:48 +0000 2017</td>\n",
       "      <td>Snoop Dogg</td>\n",
       "      <td>2017-10-15 09:39:25.454048</td>\n",
       "      <td>1579</td>\n",
       "      <td>Oct 27 new snoop Dogg. 🔥🔥🔥🔌🇺🇸 https://t....</td>\n",
       "      <td>919264239222771712</td>\n",
       "    </tr>\n",
       "    <tr>\n",
       "      <th>7</th>\n",
       "      <td>Sat Oct 14 16:44:52 +0000 2017</td>\n",
       "      <td>Snoop Dogg</td>\n",
       "      <td>2017-10-15 09:39:25.454055</td>\n",
       "      <td>159</td>\n",
       "      <td>🤷🏾‍♂️🤷🏾‍♂️ https://t.co/zIp4SjWan7 https:/...</td>\n",
       "      <td>919242611763838978</td>\n",
       "    </tr>\n",
       "    <tr>\n",
       "      <th>8</th>\n",
       "      <td>Sat Oct 14 16:44:40 +0000 2017</td>\n",
       "      <td>Snoop Dogg</td>\n",
       "      <td>2017-10-15 09:39:25.454059</td>\n",
       "      <td>738</td>\n",
       "      <td>https://t.co/YV4XhnNCwI https://t.co/kRXxomBSXI</td>\n",
       "      <td>919242564670296064</td>\n",
       "    </tr>\n",
       "    <tr>\n",
       "      <th>9</th>\n",
       "      <td>Sat Oct 14 03:58:46 +0000 2017</td>\n",
       "      <td>Snoop Dogg</td>\n",
       "      <td>2017-10-15 09:39:25.454062</td>\n",
       "      <td>19</td>\n",
       "      <td>RT @TheOffical357: @SnoopDogg finna take over ...</td>\n",
       "      <td>919049816579043334</td>\n",
       "    </tr>\n",
       "  </tbody>\n",
       "</table>\n",
       "</div>"
      ],
      "text/plain": [
       "                       created_at      handle                   mined_at  \\\n",
       "0  Sun Oct 15 05:54:01 +0000 2017  Snoop Dogg 2017-10-15 09:39:25.454003   \n",
       "1  Sun Oct 15 03:54:28 +0000 2017  Snoop Dogg 2017-10-15 09:39:25.454028   \n",
       "2  Sat Oct 14 22:59:51 +0000 2017  Snoop Dogg 2017-10-15 09:39:25.454033   \n",
       "3  Sat Oct 14 22:40:19 +0000 2017  Snoop Dogg 2017-10-15 09:39:25.454036   \n",
       "4  Sat Oct 14 22:39:20 +0000 2017  Snoop Dogg 2017-10-15 09:39:25.454040   \n",
       "5  Sat Oct 14 22:10:13 +0000 2017  Snoop Dogg 2017-10-15 09:39:25.454044   \n",
       "6  Sat Oct 14 18:10:48 +0000 2017  Snoop Dogg 2017-10-15 09:39:25.454048   \n",
       "7  Sat Oct 14 16:44:52 +0000 2017  Snoop Dogg 2017-10-15 09:39:25.454055   \n",
       "8  Sat Oct 14 16:44:40 +0000 2017  Snoop Dogg 2017-10-15 09:39:25.454059   \n",
       "9  Sat Oct 14 03:58:46 +0000 2017  Snoop Dogg 2017-10-15 09:39:25.454062   \n",
       "\n",
       "   retweet_count                                               text  \\\n",
       "0            459  Oct 27 🔥🔥 https://t.co/y6V77JfnFw https://t....   \n",
       "1             59    https://t.co/KVeaNXzXog https://t.co/v6Ma1PO6ma   \n",
       "2             56  Libra season.  @usher https://t.co/1ZWL2FxUSU ...   \n",
       "3            126  guess who's back . 🙌🏿 checc out #marthaandsn...   \n",
       "4            263    https://t.co/VZCqFCxnbx https://t.co/aZgx8rFva4   \n",
       "5            268    https://t.co/mYthBtAjsG https://t.co/EWN5JDq7Ut   \n",
       "6           1579  Oct 27 new snoop Dogg. 🔥🔥🔥🔌🇺🇸 https://t....   \n",
       "7            159  🤷🏾‍♂️🤷🏾‍♂️ https://t.co/zIp4SjWan7 https:/...   \n",
       "8            738    https://t.co/YV4XhnNCwI https://t.co/kRXxomBSXI   \n",
       "9             19  RT @TheOffical357: @SnoopDogg finna take over ...   \n",
       "\n",
       "             tweet_id  \n",
       "0  919441209558552576  \n",
       "1  919411123270635525  \n",
       "2  919336979422154753  \n",
       "3  919332066126217216  \n",
       "4  919331819182612480  \n",
       "5  919324492123529216  \n",
       "6  919264239222771712  \n",
       "7  919242611763838978  \n",
       "8  919242564670296064  \n",
       "9  919049816579043334  "
      ]
     },
     "execution_count": 39,
     "metadata": {},
     "output_type": "execute_result"
    }
   ],
   "source": [
    "pd.DataFrame(snoopdogg).head(10)"
   ]
  },
  {
   "cell_type": "code",
   "execution_count": 40,
   "metadata": {
    "collapsed": true
   },
   "outputs": [],
   "source": [
    "snoopdogg_df = pd.DataFrame(snoopdogg)\n",
    "aerosmith_df = pd.DataFrame(aerosmith)\n",
    "flagaline_df = pd.DataFrame(flagaline)\n",
    "lovato_df = pd.DataFrame(lovato)"
   ]
  },
  {
   "cell_type": "code",
   "execution_count": 41,
   "metadata": {
    "collapsed": true
   },
   "outputs": [],
   "source": [
    "tweets = pd.concat([snoopdogg_df, aerosmith_df, flagaline_df, lovato_df])"
   ]
  },
  {
   "cell_type": "code",
   "execution_count": 42,
   "metadata": {},
   "outputs": [
    {
     "data": {
      "text/plain": [
       "(12814, 6)"
      ]
     },
     "execution_count": 42,
     "metadata": {},
     "output_type": "execute_result"
    }
   ],
   "source": [
    "tweets.shape"
   ]
  },
  {
   "cell_type": "code",
   "execution_count": 43,
   "metadata": {
    "collapsed": true
   },
   "outputs": [],
   "source": [
    "emoji_key = pd.read_csv('emoji_table.txt', encoding = 'utf-8', index_col = 0)"
   ]
  },
  {
   "cell_type": "code",
   "execution_count": 44,
   "metadata": {},
   "outputs": [
    {
     "data": {
      "text/html": [
       "<div>\n",
       "<style>\n",
       "    .dataframe thead tr:only-child th {\n",
       "        text-align: right;\n",
       "    }\n",
       "\n",
       "    .dataframe thead th {\n",
       "        text-align: left;\n",
       "    }\n",
       "\n",
       "    .dataframe tbody tr th {\n",
       "        vertical-align: top;\n",
       "    }\n",
       "</style>\n",
       "<table border=\"1\" class=\"dataframe\">\n",
       "  <thead>\n",
       "    <tr style=\"text-align: right;\">\n",
       "      <th></th>\n",
       "      <th>meaning</th>\n",
       "    </tr>\n",
       "    <tr>\n",
       "      <th>emoji</th>\n",
       "      <th></th>\n",
       "    </tr>\n",
       "  </thead>\n",
       "  <tbody>\n",
       "    <tr>\n",
       "      <th>😄</th>\n",
       "      <td>A_smiley1</td>\n",
       "    </tr>\n",
       "    <tr>\n",
       "      <th>😃</th>\n",
       "      <td>A_smiley2</td>\n",
       "    </tr>\n",
       "    <tr>\n",
       "      <th>😀</th>\n",
       "      <td>A_smiley3</td>\n",
       "    </tr>\n",
       "    <tr>\n",
       "      <th>😊</th>\n",
       "      <td>A_smiley4</td>\n",
       "    </tr>\n",
       "    <tr>\n",
       "      <th>☺️</th>\n",
       "      <td>A_blush</td>\n",
       "    </tr>\n",
       "    <tr>\n",
       "      <th>😉</th>\n",
       "      <td>A_wink</td>\n",
       "    </tr>\n",
       "    <tr>\n",
       "      <th>😍</th>\n",
       "      <td>A_loveeyes</td>\n",
       "    </tr>\n",
       "    <tr>\n",
       "      <th>😘</th>\n",
       "      <td>A_kiss1</td>\n",
       "    </tr>\n",
       "    <tr>\n",
       "      <th>😚</th>\n",
       "      <td>A_kiss2</td>\n",
       "    </tr>\n",
       "    <tr>\n",
       "      <th>😗</th>\n",
       "      <td>A_kiss3</td>\n",
       "    </tr>\n",
       "  </tbody>\n",
       "</table>\n",
       "</div>"
      ],
      "text/plain": [
       "          meaning\n",
       "emoji            \n",
       "😄      A_smiley1\n",
       "😃      A_smiley2\n",
       "😀      A_smiley3\n",
       "😊      A_smiley4\n",
       "☺️        A_blush\n",
       "😉         A_wink\n",
       "😍     A_loveeyes\n",
       "😘       A_kiss1 \n",
       "😚        A_kiss2\n",
       "😗        A_kiss3"
      ]
     },
     "execution_count": 44,
     "metadata": {},
     "output_type": "execute_result"
    }
   ],
   "source": [
    "emoji_key.head(10)"
   ]
  },
  {
   "cell_type": "code",
   "execution_count": 45,
   "metadata": {
    "collapsed": true
   },
   "outputs": [],
   "source": [
    "tweets.to_csv('bindext.csv', encoding = 'utf-16')"
   ]
  },
  {
   "cell_type": "markdown",
   "metadata": {},
   "source": [
    "## 2) Machine Training  - Who's Tweet Is That?"
   ]
  },
  {
   "cell_type": "code",
   "execution_count": 56,
   "metadata": {},
   "outputs": [
    {
     "data": {
      "text/plain": [
       "[(u'https', 9194),\n",
       " (u'http', 3660),\n",
       " (u'aerosmith', 1496),\n",
       " (u'rt', 995),\n",
       " (u'ddlovato', 792),\n",
       " (u'new', 730),\n",
       " (u'amp', 715),\n",
       " (u'flagaline', 676),\n",
       " (u'love', 593),\n",
       " (u'day', 578),\n",
       " (u'tour', 565),\n",
       " (u'today', 472),\n",
       " (u'just', 471),\n",
       " (u'tonight', 442),\n",
       " (u'night', 420),\n",
       " (u'joeperry', 411),\n",
       " (u'joeykramer', 363),\n",
       " (u'album', 340),\n",
       " (u'aerohistory', 337),\n",
       " (u'thank', 330)]"
      ]
     },
     "execution_count": 56,
     "metadata": {},
     "output_type": "execute_result"
    }
   ],
   "source": [
    "from sklearn.feature_extraction.text import CountVectorizer\n",
    "from collections import Counter\n",
    "\n",
    "vect = CountVectorizer(stop_words = 'english', ngram_range=(1,1))\n",
    "\n",
    "summaries = ''.join (tweets['text'])\n",
    "ngram_sum = vect.build_analyzer()(summaries)\n",
    "\n",
    "Counter(ngram_sum).most_common(20)"
   ]
  },
  {
   "cell_type": "code",
   "execution_count": null,
   "metadata": {
    "collapsed": true
   },
   "outputs": [],
   "source": [
    "# snoopdogg = miner.mine_user_tweets(user = 'SnoopDogg')\n",
    "# aerosmith = miner.mine_user_tweets(user = 'aerosmith')\n",
    "# flagaline = miner.mine_user_tweets(user = 'FLAGALine')\n",
    "# lovato = miner.mine_user_tweets(user = 'ddlovato')"
   ]
  },
  {
   "cell_type": "code",
   "execution_count": 57,
   "metadata": {
    "collapsed": true
   },
   "outputs": [],
   "source": [
    "# Assign users to dummy variable\n",
    "\n",
    "tweets['target'] = tweets.handle.map(lambda x: 1 if x == 'Snoop Dogg' \n",
    "                                     else 2 if x == 'Aerosmith'\n",
    "                                     else 3 if x == 'Florida Georgia Line'\n",
    "                                     else 4)\n",
    "                                 "
   ]
  },
  {
   "cell_type": "code",
   "execution_count": 58,
   "metadata": {},
   "outputs": [
    {
     "data": {
      "text/html": [
       "<div>\n",
       "<style>\n",
       "    .dataframe thead tr:only-child th {\n",
       "        text-align: right;\n",
       "    }\n",
       "\n",
       "    .dataframe thead th {\n",
       "        text-align: left;\n",
       "    }\n",
       "\n",
       "    .dataframe tbody tr th {\n",
       "        vertical-align: top;\n",
       "    }\n",
       "</style>\n",
       "<table border=\"1\" class=\"dataframe\">\n",
       "  <thead>\n",
       "    <tr style=\"text-align: right;\">\n",
       "      <th></th>\n",
       "      <th>created_at</th>\n",
       "      <th>handle</th>\n",
       "      <th>mined_at</th>\n",
       "      <th>retweet_count</th>\n",
       "      <th>text</th>\n",
       "      <th>tweet_id</th>\n",
       "      <th>target</th>\n",
       "    </tr>\n",
       "  </thead>\n",
       "  <tbody>\n",
       "    <tr>\n",
       "      <th>2350</th>\n",
       "      <td>Wed Nov 28 17:37:27 +0000 2012</td>\n",
       "      <td>Aerosmith</td>\n",
       "      <td>2017-10-15 09:40:17.362983</td>\n",
       "      <td>36</td>\n",
       "      <td>Last night the Global Warming Tour invaded the...</td>\n",
       "      <td>273843057290530816</td>\n",
       "      <td>2</td>\n",
       "    </tr>\n",
       "    <tr>\n",
       "      <th>473</th>\n",
       "      <td>Wed Jul 12 19:39:01 +0000 2017</td>\n",
       "      <td>Demi Lovato</td>\n",
       "      <td>2017-10-15 09:41:05.645352</td>\n",
       "      <td>5799</td>\n",
       "      <td>Seriously love the @spotify team!! Thanks for ...</td>\n",
       "      <td>885221982421340161</td>\n",
       "      <td>4</td>\n",
       "    </tr>\n",
       "    <tr>\n",
       "      <th>1691</th>\n",
       "      <td>Thu Apr 20 11:33:50 +0000 2017</td>\n",
       "      <td>Snoop Dogg</td>\n",
       "      <td>2017-10-15 09:39:36.076066</td>\n",
       "      <td>145</td>\n",
       "      <td>https://t.co/3slXmKljp4 https://t.co/dwfcW5TIe9</td>\n",
       "      <td>855021687431208960</td>\n",
       "      <td>1</td>\n",
       "    </tr>\n",
       "    <tr>\n",
       "      <th>1745</th>\n",
       "      <td>Mon Apr 17 08:44:13 +0000 2017</td>\n",
       "      <td>Snoop Dogg</td>\n",
       "      <td>2017-10-15 09:39:36.076247</td>\n",
       "      <td>175</td>\n",
       "      <td>https://t.co/rJpeNHVNkf https://t.co/9EbzCDtKQi</td>\n",
       "      <td>853891836515155968</td>\n",
       "      <td>1</td>\n",
       "    </tr>\n",
       "    <tr>\n",
       "      <th>1476</th>\n",
       "      <td>Mon Jan 11 13:43:10 +0000 2016</td>\n",
       "      <td>Florida Georgia Line</td>\n",
       "      <td>2017-10-15 09:40:43.266425</td>\n",
       "      <td>40</td>\n",
       "      <td>Follow my snap chat story to see some island f...</td>\n",
       "      <td>686543877982031872</td>\n",
       "      <td>3</td>\n",
       "    </tr>\n",
       "    <tr>\n",
       "      <th>2757</th>\n",
       "      <td>Tue Oct 14 17:37:08 +0000 2014</td>\n",
       "      <td>Florida Georgia Line</td>\n",
       "      <td>2017-10-15 09:40:49.256892</td>\n",
       "      <td>52</td>\n",
       "      <td>RT @LateNightSeth: WEB EXCLUSIVE: Watch a bonu...</td>\n",
       "      <td>522078666772459520</td>\n",
       "      <td>3</td>\n",
       "    </tr>\n",
       "    <tr>\n",
       "      <th>3138</th>\n",
       "      <td>Tue Aug 11 09:16:27 +0000 2015</td>\n",
       "      <td>Demi Lovato</td>\n",
       "      <td>2017-10-15 09:41:24.384323</td>\n",
       "      <td>6460</td>\n",
       "      <td>All 90's vintage #Chanel on #Chanel on #Chanel...</td>\n",
       "      <td>631031411068284928</td>\n",
       "      <td>4</td>\n",
       "    </tr>\n",
       "    <tr>\n",
       "      <th>596</th>\n",
       "      <td>Mon May 22 18:34:28 +0000 2017</td>\n",
       "      <td>Demi Lovato</td>\n",
       "      <td>2017-10-15 09:41:05.645775</td>\n",
       "      <td>5110</td>\n",
       "      <td>Btw they looked fucking rad anyway 😎</td>\n",
       "      <td>866723954702069760</td>\n",
       "      <td>4</td>\n",
       "    </tr>\n",
       "    <tr>\n",
       "      <th>334</th>\n",
       "      <td>Thu Feb 23 23:28:32 +0000 2017</td>\n",
       "      <td>Florida Georgia Line</td>\n",
       "      <td>2017-10-15 09:40:36.262932</td>\n",
       "      <td>31</td>\n",
       "      <td>Our friends at @AdvanceAuto have a great deal ...</td>\n",
       "      <td>834907826166370305</td>\n",
       "      <td>3</td>\n",
       "    </tr>\n",
       "    <tr>\n",
       "      <th>803</th>\n",
       "      <td>Thu Sep 17 16:51:19 +0000 2015</td>\n",
       "      <td>Aerosmith</td>\n",
       "      <td>2017-10-15 09:40:06.151470</td>\n",
       "      <td>77</td>\n",
       "      <td>RT @THaerosmith: More fun in Red Square http:/...</td>\n",
       "      <td>644554234239692800</td>\n",
       "      <td>2</td>\n",
       "    </tr>\n",
       "  </tbody>\n",
       "</table>\n",
       "</div>"
      ],
      "text/plain": [
       "                          created_at                handle  \\\n",
       "2350  Wed Nov 28 17:37:27 +0000 2012             Aerosmith   \n",
       "473   Wed Jul 12 19:39:01 +0000 2017           Demi Lovato   \n",
       "1691  Thu Apr 20 11:33:50 +0000 2017            Snoop Dogg   \n",
       "1745  Mon Apr 17 08:44:13 +0000 2017            Snoop Dogg   \n",
       "1476  Mon Jan 11 13:43:10 +0000 2016  Florida Georgia Line   \n",
       "2757  Tue Oct 14 17:37:08 +0000 2014  Florida Georgia Line   \n",
       "3138  Tue Aug 11 09:16:27 +0000 2015           Demi Lovato   \n",
       "596   Mon May 22 18:34:28 +0000 2017           Demi Lovato   \n",
       "334   Thu Feb 23 23:28:32 +0000 2017  Florida Georgia Line   \n",
       "803   Thu Sep 17 16:51:19 +0000 2015             Aerosmith   \n",
       "\n",
       "                       mined_at  retweet_count  \\\n",
       "2350 2017-10-15 09:40:17.362983             36   \n",
       "473  2017-10-15 09:41:05.645352           5799   \n",
       "1691 2017-10-15 09:39:36.076066            145   \n",
       "1745 2017-10-15 09:39:36.076247            175   \n",
       "1476 2017-10-15 09:40:43.266425             40   \n",
       "2757 2017-10-15 09:40:49.256892             52   \n",
       "3138 2017-10-15 09:41:24.384323           6460   \n",
       "596  2017-10-15 09:41:05.645775           5110   \n",
       "334  2017-10-15 09:40:36.262932             31   \n",
       "803  2017-10-15 09:40:06.151470             77   \n",
       "\n",
       "                                                   text            tweet_id  \\\n",
       "2350  Last night the Global Warming Tour invaded the...  273843057290530816   \n",
       "473   Seriously love the @spotify team!! Thanks for ...  885221982421340161   \n",
       "1691    https://t.co/3slXmKljp4 https://t.co/dwfcW5TIe9  855021687431208960   \n",
       "1745    https://t.co/rJpeNHVNkf https://t.co/9EbzCDtKQi  853891836515155968   \n",
       "1476  Follow my snap chat story to see some island f...  686543877982031872   \n",
       "2757  RT @LateNightSeth: WEB EXCLUSIVE: Watch a bonu...  522078666772459520   \n",
       "3138  All 90's vintage #Chanel on #Chanel on #Chanel...  631031411068284928   \n",
       "596               Btw they looked fucking rad anyway 😎  866723954702069760   \n",
       "334   Our friends at @AdvanceAuto have a great deal ...  834907826166370305   \n",
       "803   RT @THaerosmith: More fun in Red Square http:/...  644554234239692800   \n",
       "\n",
       "      target  \n",
       "2350       2  \n",
       "473        4  \n",
       "1691       1  \n",
       "1745       1  \n",
       "1476       3  \n",
       "2757       3  \n",
       "3138       4  \n",
       "596        4  \n",
       "334        3  \n",
       "803        2  "
      ]
     },
     "execution_count": 58,
     "metadata": {},
     "output_type": "execute_result"
    }
   ],
   "source": [
    "# Check sample result to ensure users encoding correctly done.\n",
    "\n",
    "tweets.sample(10)"
   ]
  },
  {
   "cell_type": "code",
   "execution_count": 59,
   "metadata": {
    "collapsed": true
   },
   "outputs": [],
   "source": [
    "tweets.to_csv('bindext2.csv', encoding = 'utf-16')"
   ]
  },
  {
   "cell_type": "code",
   "execution_count": 60,
   "metadata": {},
   "outputs": [
    {
     "name": "stdout",
     "output_type": "stream",
     "text": [
      "(12814,)\n",
      "(12814,)\n"
     ]
    }
   ],
   "source": [
    "# Define independent variable and the target\n",
    "\n",
    "X = tweets.text # independent variable, predictor\n",
    "y = tweets.target # variable, target\n",
    "\n",
    "print (X.shape)\n",
    "print (y.shape)"
   ]
  },
  {
   "cell_type": "code",
   "execution_count": 61,
   "metadata": {
    "scrolled": true
   },
   "outputs": [],
   "source": [
    "# Split dataset into training & test set. \n",
    "# Training set is used for training machine to recognize tweeter pattern\n",
    "# Test set is used for testing the prediction accuracy\n",
    "# This is a dedent size of twitter feed. I decide to use 70% of the dataset for training, 30% for testing. \n",
    "\n",
    "from sklearn.model_selection import train_test_split\n",
    "\n",
    "X_train, X_test, y_train, y_test = train_test_split(X, y, test_size =0.3)"
   ]
  },
  {
   "cell_type": "code",
   "execution_count": 99,
   "metadata": {},
   "outputs": [
    {
     "name": "stdout",
     "output_type": "stream",
     "text": [
      "[nltk_data] Downloading package stopwords to\n",
      "[nltk_data]     /Users/connie/nltk_data...\n",
      "[nltk_data]   Package stopwords is already up-to-date!\n"
     ]
    },
    {
     "data": {
      "text/plain": [
       "True"
      ]
     },
     "execution_count": 99,
     "metadata": {},
     "output_type": "execute_result"
    }
   ],
   "source": [
    "import nltk\n",
    "nltk.download('stopwords')\n"
   ]
  },
  {
   "cell_type": "code",
   "execution_count": 68,
   "metadata": {},
   "outputs": [
    {
     "data": {
      "text/plain": [
       "scipy.sparse.csr.csr_matrix"
      ]
     },
     "execution_count": 68,
     "metadata": {},
     "output_type": "execute_result"
    }
   ],
   "source": [
    "# Vectorize the tweets! I will use ngram 1, 3 since the words are very unique\n",
    "\n",
    "vectorizer = CountVectorizer(stop_words='english', ngram_range=(1,1))\n",
    "X_train_t = vectorizer.fit_transform(X_train)\n",
    "X_test_t = vectorizer.transform(X_test)\n",
    "\n",
    "type(X_train_t)\n",
    "type(X_test_t)\n",
    "\n",
    "# Now, the training tweets are being fit and transformed into the document-term sparse matrix\n",
    "# The test tweets are being transform ONLY into document-term spare matrix"
   ]
  },
  {
   "cell_type": "markdown",
   "metadata": {},
   "source": [
    "### i) Bernoulli Naive Bayes Algorithm"
   ]
  },
  {
   "cell_type": "code",
   "execution_count": 81,
   "metadata": {
    "scrolled": true
   },
   "outputs": [
    {
     "data": {
      "text/plain": [
       "array([4, 4, 2, 2, 3, 2, 2, 4, 1, 1, 3, 4, 4, 2, 1, 1, 1, 1, 2, 3])"
      ]
     },
     "execution_count": 81,
     "metadata": {},
     "output_type": "execute_result"
    }
   ],
   "source": [
    "# BeroulliNB for modeling is to check the likihood of a tweet being predicted correctly. \n",
    "# import BernoulliNB from sklearn naive bayes. \n",
    "from sklearn.naive_bayes import BernoulliNB\n",
    "\n",
    "# instantiate the model\n",
    "bernnb = BernoulliNB()\n",
    "\n",
    "# fit the vectorized training tweets\n",
    "bernnb.fit(X_train_t, y_train)\n",
    "\n",
    "# Let's do some prediction\n",
    "\n",
    "y_pred_bernnb = bernnb.predict(X_test_t)\n",
    "\n",
    "# check prediction\n",
    "y_pred_bernnb[:20]"
   ]
  },
  {
   "cell_type": "code",
   "execution_count": 91,
   "metadata": {},
   "outputs": [
    {
     "name": "stdout",
     "output_type": "stream",
     "text": [
      "the Bernoulli Naive Bayes prediction accuracy score is: 0.851775816176\n"
     ]
    }
   ],
   "source": [
    "# Cross validate the prediction accuracy score for using BernoulliNB \n",
    "\n",
    "from sklearn.model_selection import cross_val_score\n",
    "\n",
    "accuracy_score = cross_val_score(bernnb, X_test_t, y_test, cv = 10)\n",
    "accuracy_score = accuracy_score.mean()\n",
    "print ('the Bernoulli Naive Bayes prediction accuracy score is: '  + str(accuracy_score))"
   ]
  },
  {
   "cell_type": "code",
   "execution_count": 83,
   "metadata": {
    "scrolled": false
   },
   "outputs": [
    {
     "data": {
      "text/html": [
       "<div>\n",
       "<style>\n",
       "    .dataframe thead tr:only-child th {\n",
       "        text-align: right;\n",
       "    }\n",
       "\n",
       "    .dataframe thead th {\n",
       "        text-align: left;\n",
       "    }\n",
       "\n",
       "    .dataframe tbody tr th {\n",
       "        vertical-align: top;\n",
       "    }\n",
       "</style>\n",
       "<table border=\"1\" class=\"dataframe\">\n",
       "  <thead>\n",
       "    <tr style=\"text-align: right;\">\n",
       "      <th></th>\n",
       "      <th>Predicted: 1</th>\n",
       "      <th>Predicted: 2</th>\n",
       "      <th>Predicted: 3</th>\n",
       "      <th>Predicted: 4</th>\n",
       "    </tr>\n",
       "  </thead>\n",
       "  <tbody>\n",
       "    <tr>\n",
       "      <th>Actual: 1</th>\n",
       "      <td>948</td>\n",
       "      <td>2</td>\n",
       "      <td>8</td>\n",
       "      <td>14</td>\n",
       "    </tr>\n",
       "    <tr>\n",
       "      <th>Actual: 2</th>\n",
       "      <td>15</td>\n",
       "      <td>901</td>\n",
       "      <td>10</td>\n",
       "      <td>19</td>\n",
       "    </tr>\n",
       "    <tr>\n",
       "      <th>Actual: 3</th>\n",
       "      <td>59</td>\n",
       "      <td>9</td>\n",
       "      <td>883</td>\n",
       "      <td>52</td>\n",
       "    </tr>\n",
       "    <tr>\n",
       "      <th>Actual: 4</th>\n",
       "      <td>92</td>\n",
       "      <td>5</td>\n",
       "      <td>21</td>\n",
       "      <td>807</td>\n",
       "    </tr>\n",
       "  </tbody>\n",
       "</table>\n",
       "</div>"
      ],
      "text/plain": [
       "           Predicted: 1  Predicted: 2  Predicted: 3  Predicted: 4\n",
       "Actual: 1           948             2             8            14\n",
       "Actual: 2            15           901            10            19\n",
       "Actual: 3            59             9           883            52\n",
       "Actual: 4            92             5            21           807"
      ]
     },
     "execution_count": 83,
     "metadata": {},
     "output_type": "execute_result"
    }
   ],
   "source": [
    "# Check how many being predicted correctly\n",
    "\n",
    "from sklearn.metrics import confusion_matrix\n",
    "\n",
    "confusion_bernnb = confusion_matrix(y_test, y_pred_bernnb)\n",
    "\n",
    "confusion_matrix_bernnb = pd.DataFrame(confusion_bernnb, index = ['Actual: 1', 'Actual: 2', 'Actual: 3', 'Actual: 4'],\n",
    "                               columns = ['Predicted: 1', 'Predicted: 2', 'Predicted: 3', 'Predicted: 4'])\n",
    "confusion_matrix_bernnb"
   ]
  },
  {
   "cell_type": "markdown",
   "metadata": {},
   "source": [
    "### II) Multinomial Naive Bayes Algorithm"
   ]
  },
  {
   "cell_type": "code",
   "execution_count": 84,
   "metadata": {},
   "outputs": [
    {
     "data": {
      "text/plain": [
       "array([4, 4, 2, 2, 3, 2, 2, 4, 1, 4, 3, 4, 4, 2, 1, 1, 1, 1, 2, 3])"
      ]
     },
     "execution_count": 84,
     "metadata": {},
     "output_type": "execute_result"
    }
   ],
   "source": [
    "from sklearn.naive_bayes import MultinomialNB\n",
    "\n",
    "# instantiate the model\n",
    "multinb = MultinomialNB()\n",
    "\n",
    "# fit the vectorized training tweets\n",
    "multinb.fit(X_train_t, y_train)\n",
    "\n",
    "# Let's do some prediction\n",
    "\n",
    "y_pred_multinb = multinb.predict(X_test_t)\n",
    "\n",
    "# check prediction\n",
    "y_pred_multinb[:20]"
   ]
  },
  {
   "cell_type": "code",
   "execution_count": 90,
   "metadata": {},
   "outputs": [
    {
     "name": "stdout",
     "output_type": "stream",
     "text": [
      "the Multinormial Naive Bayes prediction accuracy score is: 0.902194022216\n"
     ]
    }
   ],
   "source": [
    "# Cross validate the prediction accuracy score for using MultinomialNB\n",
    "\n",
    "from sklearn.model_selection import cross_val_score\n",
    "\n",
    "accuracy_score = cross_val_score(multinb, X_test_t, y_test, cv = 10)\n",
    "accuracy_score = accuracy_score.mean()\n",
    "print ('the Multinormial Naive Bayes prediction accuracy score is: '  + str(accuracy_score))"
   ]
  },
  {
   "cell_type": "code",
   "execution_count": 85,
   "metadata": {
    "scrolled": true
   },
   "outputs": [
    {
     "data": {
      "text/html": [
       "<div>\n",
       "<style>\n",
       "    .dataframe thead tr:only-child th {\n",
       "        text-align: right;\n",
       "    }\n",
       "\n",
       "    .dataframe thead th {\n",
       "        text-align: left;\n",
       "    }\n",
       "\n",
       "    .dataframe tbody tr th {\n",
       "        vertical-align: top;\n",
       "    }\n",
       "</style>\n",
       "<table border=\"1\" class=\"dataframe\">\n",
       "  <thead>\n",
       "    <tr style=\"text-align: right;\">\n",
       "      <th></th>\n",
       "      <th>Predicted: 1</th>\n",
       "      <th>Predicted: 2</th>\n",
       "      <th>Predicted: 3</th>\n",
       "      <th>Predicted: 4</th>\n",
       "    </tr>\n",
       "  </thead>\n",
       "  <tbody>\n",
       "    <tr>\n",
       "      <th>Actual: 1</th>\n",
       "      <td>921</td>\n",
       "      <td>10</td>\n",
       "      <td>21</td>\n",
       "      <td>20</td>\n",
       "    </tr>\n",
       "    <tr>\n",
       "      <th>Actual: 2</th>\n",
       "      <td>2</td>\n",
       "      <td>920</td>\n",
       "      <td>8</td>\n",
       "      <td>15</td>\n",
       "    </tr>\n",
       "    <tr>\n",
       "      <th>Actual: 3</th>\n",
       "      <td>17</td>\n",
       "      <td>20</td>\n",
       "      <td>933</td>\n",
       "      <td>33</td>\n",
       "    </tr>\n",
       "    <tr>\n",
       "      <th>Actual: 4</th>\n",
       "      <td>27</td>\n",
       "      <td>28</td>\n",
       "      <td>50</td>\n",
       "      <td>820</td>\n",
       "    </tr>\n",
       "  </tbody>\n",
       "</table>\n",
       "</div>"
      ],
      "text/plain": [
       "           Predicted: 1  Predicted: 2  Predicted: 3  Predicted: 4\n",
       "Actual: 1           921            10            21            20\n",
       "Actual: 2             2           920             8            15\n",
       "Actual: 3            17            20           933            33\n",
       "Actual: 4            27            28            50           820"
      ]
     },
     "execution_count": 85,
     "metadata": {},
     "output_type": "execute_result"
    }
   ],
   "source": [
    "confusion_multinb = confusion_matrix(y_test, y_pred_multinb)\n",
    "\n",
    "confusion_matrix_multinb = pd.DataFrame(confusion_multinb, index = ['Actual: 1', 'Actual: 2', 'Actual: 3', 'Actual: 4'],\n",
    "                               columns = ['Predicted: 1', 'Predicted: 2', 'Predicted: 3', 'Predicted: 4'])\n",
    "confusion_matrix_multinb"
   ]
  },
  {
   "cell_type": "code",
   "execution_count": 126,
   "metadata": {},
   "outputs": [
    {
     "data": {
      "text/plain": [
       "array([[  0.,   0.,   1., ...,   0.,   0.,   0.],\n",
       "       [  5.,  11.,   0., ...,   0.,   0.,   0.],\n",
       "       [  2.,   6.,   0., ...,   0.,   0.,   0.],\n",
       "       [  1.,   3.,   0., ...,   1.,   1.,   1.]])"
      ]
     },
     "execution_count": 126,
     "metadata": {},
     "output_type": "execute_result"
    }
   ],
   "source": [
    "multinb.feature_count_"
   ]
  },
  {
   "cell_type": "code",
   "execution_count": 136,
   "metadata": {},
   "outputs": [
    {
     "data": {
      "image/png": "[encoded data removed]",
      "text/plain": [
       "<matplotlib.figure.Figure at 0x114b31050>"
      ]
     },
     "metadata": {},
     "output_type": "display_data"
    }
   ],
   "source": [
    "word_probability= {}\n",
    "for word, probability in zip(vectorizer.get_feature_names(), multinb.feature_log_prob_):\n",
    "    word_probability[word] = count\n",
    "    \n",
    "word_probability = pd.DataFrame.from_dict(forest_feats, orient='index').rename(columns={0:'probability'})\n",
    "word_probability.sort_values(by='probability', ascending = False)[40:60].plot(kind = 'bar',             \n",
    "                                                                            figsize = (12,5), \n",
    "                                                                            fontsize = 12, \n",
    "                                                                            color = 'blue',\n",
    "                                                                           title = 'Multinominal NB Word Count')\n",
    "plt.xlabel('Word', fontsize = 14)\n",
    "plt.ylabel('Probability', fontsize = 14)\n",
    "plt.show()"
   ]
  },
  {
   "cell_type": "markdown",
   "metadata": {},
   "source": [
    "### III) Logistic Regression Algorithm"
   ]
  },
  {
   "cell_type": "code",
   "execution_count": 87,
   "metadata": {},
   "outputs": [
    {
     "data": {
      "text/plain": [
       "array([4, 4, 2, 2, 3, 2, 2, 4, 1, 4, 3, 4, 4, 2, 1, 1, 1, 1, 2, 3])"
      ]
     },
     "execution_count": 87,
     "metadata": {},
     "output_type": "execute_result"
    }
   ],
   "source": [
    "from sklearn.linear_model import LogisticRegression\n",
    "\n",
    "# instantiate the model\n",
    "logreg = LogisticRegression()\n",
    "\n",
    "# fit the vectorized training tweets\n",
    "logreg.fit(X_train_t, y_train)\n",
    "\n",
    "# Let's do some predictio\n",
    "\n",
    "y_pred_logreg = logreg.predict(X_test_t)\n",
    "\n",
    "# check prediction\n",
    "y_pred_logreg[:20]"
   ]
  },
  {
   "cell_type": "code",
   "execution_count": 88,
   "metadata": {},
   "outputs": [
    {
     "name": "stdout",
     "output_type": "stream",
     "text": [
      "the Logistic Regression prediction accuracy score is: 0.900657268175\n"
     ]
    }
   ],
   "source": [
    "# Cross validate the prediction accuracy score for using LogisticRegression\n",
    "\n",
    "from sklearn.model_selection import cross_val_score\n",
    "\n",
    "accuracy_score = cross_val_score(logreg, X_test_t, y_test, cv = 10)\n",
    "accuracy_score = accuracy_score.mean()\n",
    "print ('the Logistic Regression prediction accuracy score is: '  + str(accuracy_score))"
   ]
  },
  {
   "cell_type": "code",
   "execution_count": 89,
   "metadata": {},
   "outputs": [
    {
     "data": {
      "text/html": [
       "<div>\n",
       "<style>\n",
       "    .dataframe thead tr:only-child th {\n",
       "        text-align: right;\n",
       "    }\n",
       "\n",
       "    .dataframe thead th {\n",
       "        text-align: left;\n",
       "    }\n",
       "\n",
       "    .dataframe tbody tr th {\n",
       "        vertical-align: top;\n",
       "    }\n",
       "</style>\n",
       "<table border=\"1\" class=\"dataframe\">\n",
       "  <thead>\n",
       "    <tr style=\"text-align: right;\">\n",
       "      <th></th>\n",
       "      <th>Predicted: 1</th>\n",
       "      <th>Predicted: 2</th>\n",
       "      <th>Predicted: 3</th>\n",
       "      <th>Predicted: 4</th>\n",
       "    </tr>\n",
       "  </thead>\n",
       "  <tbody>\n",
       "    <tr>\n",
       "      <th>Actual: 1</th>\n",
       "      <td>947</td>\n",
       "      <td>1</td>\n",
       "      <td>11</td>\n",
       "      <td>13</td>\n",
       "    </tr>\n",
       "    <tr>\n",
       "      <th>Actual: 2</th>\n",
       "      <td>12</td>\n",
       "      <td>911</td>\n",
       "      <td>15</td>\n",
       "      <td>7</td>\n",
       "    </tr>\n",
       "    <tr>\n",
       "      <th>Actual: 3</th>\n",
       "      <td>38</td>\n",
       "      <td>10</td>\n",
       "      <td>892</td>\n",
       "      <td>63</td>\n",
       "    </tr>\n",
       "    <tr>\n",
       "      <th>Actual: 4</th>\n",
       "      <td>52</td>\n",
       "      <td>7</td>\n",
       "      <td>33</td>\n",
       "      <td>833</td>\n",
       "    </tr>\n",
       "  </tbody>\n",
       "</table>\n",
       "</div>"
      ],
      "text/plain": [
       "           Predicted: 1  Predicted: 2  Predicted: 3  Predicted: 4\n",
       "Actual: 1           947             1            11            13\n",
       "Actual: 2            12           911            15             7\n",
       "Actual: 3            38            10           892            63\n",
       "Actual: 4            52             7            33           833"
      ]
     },
     "execution_count": 89,
     "metadata": {},
     "output_type": "execute_result"
    }
   ],
   "source": [
    "confusion_logreg = confusion_matrix(y_test, y_pred_logreg)\n",
    "\n",
    "confusion_matrix_logreg = pd.DataFrame(confusion_logreg, index = ['Actual: 1', 'Actual: 2', 'Actual: 3', 'Actual: 4'],\n",
    "                               columns = ['Predicted: 1', 'Predicted: 2', 'Predicted: 3', 'Predicted: 4'])\n",
    "confusion_matrix_logreg"
   ]
  },
  {
   "cell_type": "markdown",
   "metadata": {},
   "source": [
    "### IIII) Raindom Forest Classifier Algorithm"
   ]
  },
  {
   "cell_type": "code",
   "execution_count": 93,
   "metadata": {},
   "outputs": [
    {
     "data": {
      "text/plain": [
       "array([4, 4, 2, 2, 3, 2, 2, 4, 1, 4, 3, 4, 4, 2, 1, 1, 1, 1, 2, 3])"
      ]
     },
     "execution_count": 93,
     "metadata": {},
     "output_type": "execute_result"
    }
   ],
   "source": [
    "from sklearn.ensemble import RandomForestClassifier\n",
    "\n",
    "# instantiate the model\n",
    "forest = RandomForestClassifier()\n",
    "\n",
    "# fit the vectorized training tweets\n",
    "forest.fit(X_train_t, y_train)\n",
    "\n",
    "# Let's do some prediction\n",
    "\n",
    "y_pred_forest = forest.predict(X_test_t)\n",
    "\n",
    "# check prediction\n",
    "y_pred_forest[:20]"
   ]
  },
  {
   "cell_type": "code",
   "execution_count": 95,
   "metadata": {},
   "outputs": [
    {
     "name": "stdout",
     "output_type": "stream",
     "text": [
      "The Random Forst Classifier prediction accuracy score is: 0.869694259543\n"
     ]
    }
   ],
   "source": [
    "# Cross validate the prediction accuracy score for using Randomtree\n",
    "\n",
    "from sklearn.model_selection import cross_val_score\n",
    "\n",
    "accuracy_score = cross_val_score(forest, X_test_t, y_test, cv = 10)\n",
    "accuracy_score = accuracy_score.mean()\n",
    "print ('The Random Forst Classifier prediction accuracy score is: '  + str(accuracy_score))"
   ]
  },
  {
   "cell_type": "code",
   "execution_count": 97,
   "metadata": {},
   "outputs": [
    {
     "data": {
      "text/html": [
       "<div>\n",
       "<style>\n",
       "    .dataframe thead tr:only-child th {\n",
       "        text-align: right;\n",
       "    }\n",
       "\n",
       "    .dataframe thead th {\n",
       "        text-align: left;\n",
       "    }\n",
       "\n",
       "    .dataframe tbody tr th {\n",
       "        vertical-align: top;\n",
       "    }\n",
       "</style>\n",
       "<table border=\"1\" class=\"dataframe\">\n",
       "  <thead>\n",
       "    <tr style=\"text-align: right;\">\n",
       "      <th></th>\n",
       "      <th>Predicted: 1</th>\n",
       "      <th>Predicted: 2</th>\n",
       "      <th>Predicted: 3</th>\n",
       "      <th>Predicted: 4</th>\n",
       "    </tr>\n",
       "  </thead>\n",
       "  <tbody>\n",
       "    <tr>\n",
       "      <th>Actual: 1</th>\n",
       "      <td>934</td>\n",
       "      <td>3</td>\n",
       "      <td>23</td>\n",
       "      <td>12</td>\n",
       "    </tr>\n",
       "    <tr>\n",
       "      <th>Actual: 2</th>\n",
       "      <td>13</td>\n",
       "      <td>894</td>\n",
       "      <td>22</td>\n",
       "      <td>16</td>\n",
       "    </tr>\n",
       "    <tr>\n",
       "      <th>Actual: 3</th>\n",
       "      <td>38</td>\n",
       "      <td>27</td>\n",
       "      <td>872</td>\n",
       "      <td>66</td>\n",
       "    </tr>\n",
       "    <tr>\n",
       "      <th>Actual: 4</th>\n",
       "      <td>47</td>\n",
       "      <td>17</td>\n",
       "      <td>78</td>\n",
       "      <td>783</td>\n",
       "    </tr>\n",
       "  </tbody>\n",
       "</table>\n",
       "</div>"
      ],
      "text/plain": [
       "           Predicted: 1  Predicted: 2  Predicted: 3  Predicted: 4\n",
       "Actual: 1           934             3            23            12\n",
       "Actual: 2            13           894            22            16\n",
       "Actual: 3            38            27           872            66\n",
       "Actual: 4            47            17            78           783"
      ]
     },
     "execution_count": 97,
     "metadata": {},
     "output_type": "execute_result"
    }
   ],
   "source": [
    "confusion_forest = confusion_matrix(y_test, y_pred_forest)\n",
    "\n",
    "confusion_matrix_forest = pd.DataFrame(confusion_forest, index = ['Actual: 1', 'Actual: 2', 'Actual: 3', 'Actual: 4'],\n",
    "                               columns = ['Predicted: 1', 'Predicted: 2', 'Predicted: 3', 'Predicted: 4'])\n",
    "confusion_matrix_forest"
   ]
  },
  {
   "cell_type": "markdown",
   "metadata": {},
   "source": [
    "## 3) Sentiment Analysis"
   ]
  },
  {
   "cell_type": "code",
   "execution_count": 104,
   "metadata": {
    "collapsed": true
   },
   "outputs": [],
   "source": [
    "import matplotlib.pyplot as plt"
   ]
  },
  {
   "cell_type": "code",
   "execution_count": 121,
   "metadata": {
    "scrolled": false
   },
   "outputs": [
    {
     "data": {
      "image/png": "[encoded data removed]",
      "text/plain": [
       "<matplotlib.figure.Figure at 0x114c59e50>"
      ]
     },
     "metadata": {},
     "output_type": "display_data"
    }
   ],
   "source": [
    "forest_feats= {}\n",
    "for feature, importance in zip(vectorizer.get_feature_names(), forest.feature_importances_):\n",
    "    forest_feats[feature] = importance\n",
    "    \n",
    "forest_feat_importances = pd.DataFrame.from_dict(forest_feats, orient='index').rename(columns={0:'Gini-importance'})\n",
    "forest_feat_importances.sort_values(by='Gini-importance', ascending = False)[10:40].plot(kind = 'bar', \n",
    "                                                                            rot = 90,               \n",
    "                                                                            figsize = (12,5), \n",
    "                                                                            fontsize = 12, \n",
    "                                                                            color = '#4AA02C',\n",
    "                                                                           title = 'Random Forest NLP Word Importance')\n",
    "plt.xlabel('Word', fontsize = 14)\n",
    "plt.ylabel('Gini-importance Score', fontsize = 14)\n",
    "plt.show()"
   ]
  },
  {
   "cell_type": "code",
   "execution_count": 123,
   "metadata": {},
   "outputs": [
    {
     "data": {
      "text/html": [
       "<div>\n",
       "<style>\n",
       "    .dataframe thead tr:only-child th {\n",
       "        text-align: right;\n",
       "    }\n",
       "\n",
       "    .dataframe thead th {\n",
       "        text-align: left;\n",
       "    }\n",
       "\n",
       "    .dataframe tbody tr th {\n",
       "        vertical-align: top;\n",
       "    }\n",
       "</style>\n",
       "<table border=\"1\" class=\"dataframe\">\n",
       "  <thead>\n",
       "    <tr style=\"text-align: right;\">\n",
       "      <th></th>\n",
       "      <th>Gini-importance</th>\n",
       "    </tr>\n",
       "  </thead>\n",
       "  <tbody>\n",
       "    <tr>\n",
       "      <th>new</th>\n",
       "      <td>0.002199</td>\n",
       "    </tr>\n",
       "    <tr>\n",
       "      <th>amp</th>\n",
       "      <td>0.002173</td>\n",
       "    </tr>\n",
       "    <tr>\n",
       "      <th>wit</th>\n",
       "      <td>0.002145</td>\n",
       "    </tr>\n",
       "    <tr>\n",
       "      <th>coming</th>\n",
       "      <td>0.002041</td>\n",
       "    </tr>\n",
       "    <tr>\n",
       "      <th>fgl</th>\n",
       "      <td>0.001946</td>\n",
       "    </tr>\n",
       "    <tr>\n",
       "      <th>year</th>\n",
       "      <td>0.001929</td>\n",
       "    </tr>\n",
       "    <tr>\n",
       "      <th>excited</th>\n",
       "      <td>0.001909</td>\n",
       "    </tr>\n",
       "    <tr>\n",
       "      <th>demi</th>\n",
       "      <td>0.001881</td>\n",
       "    </tr>\n",
       "    <tr>\n",
       "      <th>week</th>\n",
       "      <td>0.001873</td>\n",
       "    </tr>\n",
       "    <tr>\n",
       "      <th>weekend</th>\n",
       "      <td>0.001848</td>\n",
       "    </tr>\n",
       "    <tr>\n",
       "      <th>let</th>\n",
       "      <td>0.001831</td>\n",
       "    </tr>\n",
       "    <tr>\n",
       "      <th>sundaze</th>\n",
       "      <td>0.001820</td>\n",
       "    </tr>\n",
       "    <tr>\n",
       "      <th>thankful</th>\n",
       "      <td>0.001776</td>\n",
       "    </tr>\n",
       "    <tr>\n",
       "      <th>happy</th>\n",
       "      <td>0.001728</td>\n",
       "    </tr>\n",
       "    <tr>\n",
       "      <th>ready</th>\n",
       "      <td>0.001628</td>\n",
       "    </tr>\n",
       "    <tr>\n",
       "      <th>brad</th>\n",
       "      <td>0.001612</td>\n",
       "    </tr>\n",
       "    <tr>\n",
       "      <th>fabletics</th>\n",
       "      <td>0.001538</td>\n",
       "    </tr>\n",
       "    <tr>\n",
       "      <th>steven</th>\n",
       "      <td>0.001490</td>\n",
       "    </tr>\n",
       "    <tr>\n",
       "      <th>nashville</th>\n",
       "      <td>0.001487</td>\n",
       "    </tr>\n",
       "    <tr>\n",
       "      <th>album</th>\n",
       "      <td>0.001463</td>\n",
       "    </tr>\n",
       "    <tr>\n",
       "      <th>globalwarmingtour</th>\n",
       "      <td>0.001448</td>\n",
       "    </tr>\n",
       "    <tr>\n",
       "      <th>cmt</th>\n",
       "      <td>0.001440</td>\n",
       "    </tr>\n",
       "    <tr>\n",
       "      <th>blingyourbrand</th>\n",
       "      <td>0.001397</td>\n",
       "    </tr>\n",
       "    <tr>\n",
       "      <th>tanquerayusa</th>\n",
       "      <td>0.001387</td>\n",
       "    </tr>\n",
       "    <tr>\n",
       "      <th>periscope</th>\n",
       "      <td>0.001285</td>\n",
       "    </tr>\n",
       "    <tr>\n",
       "      <th>ya</th>\n",
       "      <td>0.001270</td>\n",
       "    </tr>\n",
       "    <tr>\n",
       "      <th>askjoeperry</th>\n",
       "      <td>0.001249</td>\n",
       "    </tr>\n",
       "    <tr>\n",
       "      <th>retweet</th>\n",
       "      <td>0.001239</td>\n",
       "    </tr>\n",
       "    <tr>\n",
       "      <th>good</th>\n",
       "      <td>0.001237</td>\n",
       "    </tr>\n",
       "    <tr>\n",
       "      <th>joe</th>\n",
       "      <td>0.001230</td>\n",
       "    </tr>\n",
       "    <tr>\n",
       "      <th>fgl4life</th>\n",
       "      <td>0.001229</td>\n",
       "    </tr>\n",
       "    <tr>\n",
       "      <th>amphitheatre</th>\n",
       "      <td>0.001222</td>\n",
       "    </tr>\n",
       "    <tr>\n",
       "      <th>rocks</th>\n",
       "      <td>0.001219</td>\n",
       "    </tr>\n",
       "    <tr>\n",
       "      <th>proud</th>\n",
       "      <td>0.001216</td>\n",
       "    </tr>\n",
       "    <tr>\n",
       "      <th>tbt</th>\n",
       "      <td>0.001210</td>\n",
       "    </tr>\n",
       "    <tr>\n",
       "      <th>arena</th>\n",
       "      <td>0.001205</td>\n",
       "    </tr>\n",
       "    <tr>\n",
       "      <th>sure</th>\n",
       "      <td>0.001176</td>\n",
       "    </tr>\n",
       "    <tr>\n",
       "      <th>right</th>\n",
       "      <td>0.001163</td>\n",
       "    </tr>\n",
       "    <tr>\n",
       "      <th>win</th>\n",
       "      <td>0.001161</td>\n",
       "    </tr>\n",
       "    <tr>\n",
       "      <th>coolforthesummer</th>\n",
       "      <td>0.001153</td>\n",
       "    </tr>\n",
       "    <tr>\n",
       "      <th>oct</th>\n",
       "      <td>0.001151</td>\n",
       "    </tr>\n",
       "    <tr>\n",
       "      <th>merryjane</th>\n",
       "      <td>0.001145</td>\n",
       "    </tr>\n",
       "    <tr>\n",
       "      <th>bradpaisley</th>\n",
       "      <td>0.001142</td>\n",
       "    </tr>\n",
       "    <tr>\n",
       "      <th>tomorrow</th>\n",
       "      <td>0.001124</td>\n",
       "    </tr>\n",
       "    <tr>\n",
       "      <th>song</th>\n",
       "      <td>0.001120</td>\n",
       "    </tr>\n",
       "    <tr>\n",
       "      <th>tickets</th>\n",
       "      <td>0.001118</td>\n",
       "    </tr>\n",
       "    <tr>\n",
       "      <th>incredible</th>\n",
       "      <td>0.001090</td>\n",
       "    </tr>\n",
       "    <tr>\n",
       "      <th>miss</th>\n",
       "      <td>0.001061</td>\n",
       "    </tr>\n",
       "    <tr>\n",
       "      <th>stop</th>\n",
       "      <td>0.001057</td>\n",
       "    </tr>\n",
       "  </tbody>\n",
       "</table>\n",
       "</div>"
      ],
      "text/plain": [
       "                   Gini-importance\n",
       "new                       0.002199\n",
       "amp                       0.002173\n",
       "wit                       0.002145\n",
       "coming                    0.002041\n",
       "fgl                       0.001946\n",
       "year                      0.001929\n",
       "excited                   0.001909\n",
       "demi                      0.001881\n",
       "week                      0.001873\n",
       "weekend                   0.001848\n",
       "let                       0.001831\n",
       "sundaze                   0.001820\n",
       "thankful                  0.001776\n",
       "happy                     0.001728\n",
       "ready                     0.001628\n",
       "brad                      0.001612\n",
       "fabletics                 0.001538\n",
       "steven                    0.001490\n",
       "nashville                 0.001487\n",
       "album                     0.001463\n",
       "globalwarmingtour         0.001448\n",
       "cmt                       0.001440\n",
       "blingyourbrand            0.001397\n",
       "tanquerayusa              0.001387\n",
       "periscope                 0.001285\n",
       "ya                        0.001270\n",
       "askjoeperry               0.001249\n",
       "retweet                   0.001239\n",
       "good                      0.001237\n",
       "joe                       0.001230\n",
       "fgl4life                  0.001229\n",
       "amphitheatre              0.001222\n",
       "rocks                     0.001219\n",
       "proud                     0.001216\n",
       "tbt                       0.001210\n",
       "arena                     0.001205\n",
       "sure                      0.001176\n",
       "right                     0.001163\n",
       "win                       0.001161\n",
       "coolforthesummer          0.001153\n",
       "oct                       0.001151\n",
       "merryjane                 0.001145\n",
       "bradpaisley               0.001142\n",
       "tomorrow                  0.001124\n",
       "song                      0.001120\n",
       "tickets                   0.001118\n",
       "incredible                0.001090\n",
       "miss                      0.001061\n",
       "stop                      0.001057"
      ]
     },
     "execution_count": 123,
     "metadata": {},
     "output_type": "execute_result"
    }
   ],
   "source": [
    "forest_feat_importances.sort_values(by='Gini-importance', ascending = False)[51:100]\n"
   ]
  },
  {
   "cell_type": "code",
   "execution_count": null,
   "metadata": {},
   "outputs": [],
   "source": [
    "emoji_count = defaultdict(int)\n",
    "for i in tweets['text']:\n",
    "    for emoji in re.findall(u'[\\U0001f525]', i):\n",
    "        emoji_count[emoji] +=1\n",
    "        \n",
    "print(emoji_count)        \n",
    "    "
   ]
  },
  {
   "cell_type": "code",
   "execution_count": null,
   "metadata": {
    "scrolled": true
   },
   "outputs": [],
   "source": [
    "unicode('🔥 ', 'utf-8')"
   ]
  },
  {
   "cell_type": "code",
   "execution_count": null,
   "metadata": {
    "collapsed": true
   },
   "outputs": [],
   "source": [
    "import re\n",
    "import sys"
   ]
  },
  {
   "cell_type": "code",
   "execution_count": null,
   "metadata": {},
   "outputs": [],
   "source": [
    "emoji_count = defaultdict(int)\n",
    "for i in tweets['text']:\n",
    "    for emoji in re.findall(u'[\\U0001f300-\\U0001f650]|[\\u2000-\\u3000]', i):\n",
    "        emoji_count[emoji] += 1\n",
    "\n",
    "print (emoji_count)"
   ]
  },
  {
   "cell_type": "code",
   "execution_count": null,
   "metadata": {
    "collapsed": true
   },
   "outputs": [],
   "source": []
  }
 ],
 "metadata": {
  "kernelspec": {
   "display_name": "Python 2",
   "language": "python",
   "name": "python2"
  },
  "language_info": {
   "codemirror_mode": {
    "name": "ipython",
    "version": 2
   },
   "file_extension": ".py",
   "mimetype": "text/x-python",
   "name": "python",
   "nbconvert_exporter": "python",
   "pygments_lexer": "ipython2",
   "version": "2.7.13"
  }
 },
 "nbformat": 4,
 "nbformat_minor": 2
}
